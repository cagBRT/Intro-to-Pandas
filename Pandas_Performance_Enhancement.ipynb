{
  "nbformat": 4,
  "nbformat_minor": 0,
  "metadata": {
    "colab": {
      "private_outputs": true,
      "provenance": [],
      "authorship_tag": "ABX9TyMbli72Nfu5ZGaWS/oW99ii",
      "include_colab_link": true
    },
    "kernelspec": {
      "name": "python3",
      "display_name": "Python 3"
    },
    "language_info": {
      "name": "python"
    }
  },
  "cells": [
    {
      "cell_type": "markdown",
      "metadata": {
        "id": "view-in-github",
        "colab_type": "text"
      },
      "source": [
        "<a href=\"https://colab.research.google.com/github/cagBRT/Intro-to-Pandas/blob/master/Pandas_Performance_Enhancement.ipynb\" target=\"_parent\"><img src=\"https://colab.research.google.com/assets/colab-badge.svg\" alt=\"Open In Colab\"/></a>"
      ]
    },
    {
      "cell_type": "code",
      "source": [
        "# Clone the entire repo.\n",
        "!git clone -l -s https://github.com/cagBRT/Intro-to-Pandas.git cloned-repo\n",
        "%cd cloned-repo\n",
        "!ls"
      ],
      "metadata": {
        "id": "yrTqospYjyYQ"
      },
      "execution_count": null,
      "outputs": []
    },
    {
      "cell_type": "markdown",
      "source": [
        "1. Download the dataset here:"
      ],
      "metadata": {
        "id": "RHSHl4YbdAyg"
      }
    },
    {
      "cell_type": "code",
      "source": [
        "#https://www.kaggle.com/competitions/tabular-playground-series-sep-2021/rules"
      ],
      "metadata": {
        "id": "rRoNKqi4c_lH"
      },
      "execution_count": null,
      "outputs": []
    },
    {
      "cell_type": "markdown",
      "source": [
        "2. It will be be in zip format. <br>\n",
        "Unzip the folder"
      ],
      "metadata": {
        "id": "PeWcWXr3dXOD"
      }
    },
    {
      "cell_type": "markdown",
      "source": [
        "3. Upload using file upload:<br>\n",
        ">train.csv<br>\n",
        ">test.csv\n"
      ],
      "metadata": {
        "id": "DD1GcxiIdcoh"
      }
    },
    {
      "cell_type": "markdown",
      "source": [
        "4. Wait for the upload to finish. <br>\n",
        "This will take about 15 minutes"
      ],
      "metadata": {
        "id": "q1x8I8P-eFOH"
      }
    },
    {
      "cell_type": "code",
      "source": [
        "import pandas as pd\n",
        "\n",
        "tps = pd.read_csv(\"/content/train.csv\")"
      ],
      "metadata": {
        "id": "0CJpyoK7d2lk"
      },
      "execution_count": null,
      "outputs": []
    },
    {
      "cell_type": "code",
      "source": [
        "print(f\"Shape of the tps dataset: {tps.shape}\")"
      ],
      "metadata": {
        "id": "cOuIUCdqe3I-"
      },
      "execution_count": null,
      "outputs": []
    },
    {
      "cell_type": "markdown",
      "source": [
        "# Indexing efficiently\n",
        "The fastest way of selecting rows and columns.\n",
        "\n",
        "As you know, there are two indexing operators —\n",
        "loc and iloc in Pandas.\n",
        "\n",
        "Even though their difference won't matter much for small datasets, they will be pretty noticeable as data size increases.\n",
        "\n",
        "Firstly, **for choosing a row or multiple rows, iloc is faster.**\n",
        "\n"
      ],
      "metadata": {
        "id": "U6onTx8fbZvd"
      }
    },
    {
      "cell_type": "markdown",
      "source": [
        "## for choosing a row or multiple rows, iloc is faster."
      ],
      "metadata": {
        "id": "8uKVzOtqfPuF"
      }
    },
    {
      "cell_type": "code",
      "execution_count": null,
      "metadata": {
        "id": "b-HlwD8EbSvc"
      },
      "outputs": [],
      "source": [
        "tps.iloc[range(10000)]"
      ]
    },
    {
      "cell_type": "markdown",
      "source": [
        "## loc is best for choosing columns with their labels"
      ],
      "metadata": {
        "id": "o-L-OI65fJsW"
      }
    },
    {
      "cell_type": "code",
      "source": [
        "tps.loc[:, [\"f1\", \"f2\", \"f3\"]]"
      ],
      "metadata": {
        "id": "nnB9rRRYfJ2A"
      },
      "execution_count": null,
      "outputs": []
    },
    {
      "cell_type": "markdown",
      "source": [
        "## For sampling columns or rows, the built-in sample function is the fastest.\n",
        "\n",
        "You may think that sampling using random indices with NumPy would be faster, but that’s not the case:"
      ],
      "metadata": {
        "id": "S43FizQgfa85"
      }
    },
    {
      "cell_type": "code",
      "source": [
        "#Sample 7 rows\n",
        "tps.sample(7, axis=0)"
      ],
      "metadata": {
        "id": "Q4ZoY-zQfbGC"
      },
      "execution_count": null,
      "outputs": []
    },
    {
      "cell_type": "code",
      "source": [
        "#Sample 5 columns and  7 rows\n",
        "tps.sample(5, axis=1).sample(7, axis=0)"
      ],
      "metadata": {
        "id": "mWU95xQHfqxI"
      },
      "execution_count": null,
      "outputs": []
    },
    {
      "cell_type": "markdown",
      "source": [
        "Use replace to replace specific values"
      ],
      "metadata": {
        "id": "CjwSsIRuf25x"
      }
    },
    {
      "cell_type": "markdown",
      "source": [
        "While speed is the first benefit of replace, the second is its flexibility.\n",
        "\n",
        "We can replace all question marks with NaN - an operation that would take multiple calls with index-based replacement."
      ],
      "metadata": {
        "id": "ZrZO3pH3gTsI"
      }
    },
    {
      "cell_type": "code",
      "source": [
        "adult_income = pd.read_csv(\"adult.csv\")"
      ],
      "metadata": {
        "id": "TKdc5b-ykVof"
      },
      "execution_count": null,
      "outputs": []
    },
    {
      "cell_type": "code",
      "source": [
        "adult_income.shape"
      ],
      "metadata": {
        "id": "eZiTVHoJkiXK"
      },
      "execution_count": null,
      "outputs": []
    },
    {
      "cell_type": "code",
      "source": [
        "adult_income.columns"
      ],
      "metadata": {
        "id": "75dErAs3mfi8"
      },
      "execution_count": null,
      "outputs": []
    },
    {
      "cell_type": "code",
      "source": [
        "adult_income.isna().sum()"
      ],
      "metadata": {
        "id": "NsFqJe-wpa81"
      },
      "execution_count": null,
      "outputs": []
    },
    {
      "cell_type": "code",
      "source": [
        "import numpy as np\n",
        "\n",
        "adult_income.replace(to_replace=\"?\", value=np.nan, inplace=True)"
      ],
      "metadata": {
        "id": "nln69e1tf3FH"
      },
      "execution_count": null,
      "outputs": []
    },
    {
      "cell_type": "markdown",
      "source": [
        "Also, replace allows using lists or dictionaries to change multiple values simultaneously:"
      ],
      "metadata": {
        "id": "gUi7YMZ0gaOE"
      }
    },
    {
      "cell_type": "code",
      "source": [
        "adult_income.isna().sum()"
      ],
      "metadata": {
        "id": "zPDFsV-PgaX-"
      },
      "execution_count": null,
      "outputs": []
    },
    {
      "cell_type": "markdown",
      "source": [
        "replace allows using lists or dictionaries to change multiple values simultaneously:\n",
        "\n"
      ],
      "metadata": {
        "id": "YZ9p6K1spuMe"
      }
    },
    {
      "cell_type": "code",
      "source": [
        "adult_income.gender.value_counts()"
      ],
      "metadata": {
        "id": "F5KJRMS3pw9n"
      },
      "execution_count": null,
      "outputs": []
    },
    {
      "cell_type": "code",
      "source": [
        "adult_income.replace([\"Male\", \"Female\"], [\"M\", \"F\"], inplace=True)"
      ],
      "metadata": {
        "id": "mtNZSHG3puwd"
      },
      "execution_count": null,
      "outputs": []
    },
    {
      "cell_type": "code",
      "source": [
        "adult_income.gender.value_counts()"
      ],
      "metadata": {
        "id": "UTHI5T6op4jp"
      },
      "execution_count": null,
      "outputs": []
    },
    {
      "cell_type": "markdown",
      "source": [
        "When replacing a list of values with another, they will have a one-to-one, index-to-index mapping."
      ],
      "metadata": {
        "id": "rIeBd8ISqCoZ"
      }
    },
    {
      "cell_type": "code",
      "source": [
        "adult_income[\"native-country\"].value_counts()"
      ],
      "metadata": {
        "id": "FGpGcoUhqHsc"
      },
      "execution_count": null,
      "outputs": []
    },
    {
      "cell_type": "code",
      "source": [
        "adult_income.replace({\"United States\": \"USA\", \"US\": \"USA\"}, inplace=True)"
      ],
      "metadata": {
        "id": "92z0NQpEqDWl"
      },
      "execution_count": null,
      "outputs": []
    },
    {
      "cell_type": "code",
      "source": [
        "adult_income[\"native-country\"].value_counts()"
      ],
      "metadata": {
        "id": "hFcQFvb0qgnY"
      },
      "execution_count": null,
      "outputs": []
    },
    {
      "cell_type": "code",
      "source": [
        "adult_income.education.value_counts()"
      ],
      "metadata": {
        "id": "oDhqDAWbrM72"
      },
      "execution_count": null,
      "outputs": []
    },
    {
      "cell_type": "code",
      "source": [
        "adult_income.income.value_counts()"
      ],
      "metadata": {
        "id": "PH-60v7HrXMN"
      },
      "execution_count": null,
      "outputs": []
    },
    {
      "cell_type": "code",
      "source": [
        "adult_income.replace(\n",
        "    {\n",
        "        \"education\": {\"HS-grad\": \"High school\", \"Some-college\": \"College\", \"12th\":\"High school\"},\n",
        "        \"income\": {\"<=50K\": 0, \">50K\": 1},\n",
        "    },\n",
        "    inplace=True,\n",
        ")"
      ],
      "metadata": {
        "id": "xliYNoBzrIXK"
      },
      "execution_count": null,
      "outputs": []
    },
    {
      "cell_type": "code",
      "source": [
        "adult_income.education.value_counts()"
      ],
      "metadata": {
        "id": "JMkkB-9Hrfo1"
      },
      "execution_count": null,
      "outputs": []
    },
    {
      "cell_type": "code",
      "source": [
        "adult_income.income.value_counts()"
      ],
      "metadata": {
        "id": "q0wXfTt0rbbD"
      },
      "execution_count": null,
      "outputs": []
    }
  ]
}