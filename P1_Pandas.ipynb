{
  "nbformat": 4,
  "nbformat_minor": 0,
  "metadata": {
    "colab": {
      "name": "P1 Pandas.ipynb",
      "provenance": [],
      "private_outputs": true,
      "collapsed_sections": [],
      "authorship_tag": "ABX9TyNzeoYMbmBuOxERQjRzaEvF",
      "include_colab_link": true
    },
    "kernelspec": {
      "name": "python3",
      "display_name": "Python 3"
    }
  },
  "cells": [
    {
      "cell_type": "markdown",
      "metadata": {
        "id": "view-in-github",
        "colab_type": "text"
      },
      "source": [
        "<a href=\"https://colab.research.google.com/github/cagBRT/Intro-to-Pandas/blob/master/P1_Pandas.ipynb\" target=\"_parent\"><img src=\"https://colab.research.google.com/assets/colab-badge.svg\" alt=\"Open In Colab\"/></a>"
      ]
    },
    {
      "cell_type": "markdown",
      "metadata": {
        "id": "fW-iQO9j2Vy7",
        "colab_type": "text"
      },
      "source": [
        "The data manipulation capabilities of pandas are built on top of the numpy library. In a way, numpy is a dependency of the pandas library.<br>\n",
        "Pandas is best at handling tabular data sets comprising different variable types (integer, float, double, etc.). In addition, the pandas library can also be used to perform even the most naive of tasks such as loading data or doing feature engineering on time series data.<br>\n"
      ]
    },
    {
      "cell_type": "code",
      "metadata": {
        "id": "mfVrbia1NjyT",
        "colab_type": "code",
        "colab": {}
      },
      "source": [
        "# Clone the entire repo.\n",
        "!git clone -l -s https://github.com/cagBRT/Intro-to-Pandas.git cloned-repo\n",
        "%cd cloned-repo\n",
        "!ls"
      ],
      "execution_count": 0,
      "outputs": []
    },
    {
      "cell_type": "code",
      "metadata": {
        "id": "pTXRUnfJN8hq",
        "colab_type": "code",
        "colab": {}
      },
      "source": [
        "from IPython.display import Image\n",
        "def page(num):\n",
        "    return Image(\"Pandas\"+str(num)+ \".png\" , width=640)"
      ],
      "execution_count": 0,
      "outputs": []
    },
    {
      "cell_type": "code",
      "metadata": {
        "id": "A-A2ngKXx7K0",
        "colab_type": "code",
        "colab": {}
      },
      "source": [
        "import pandas as pd\n",
        "import numpy as np"
      ],
      "execution_count": 0,
      "outputs": []
    },
    {
      "cell_type": "markdown",
      "metadata": {
        "id": "EE--Ejra5XsE",
        "colab_type": "text"
      },
      "source": [
        "# **Core components of pandas: Series and DataFrames**\n",
        "\n",
        "A Series is a data column<br>\n",
        "DataFrame is a multi-dimensional table made up of a collection of Series<br>"
      ]
    },
    {
      "cell_type": "code",
      "metadata": {
        "id": "dybeNHH1l4Dh",
        "colab_type": "code",
        "colab": {}
      },
      "source": [
        "Image(\"Pandas(1).png\" , width=640)"
      ],
      "execution_count": 0,
      "outputs": []
    },
    {
      "cell_type": "code",
      "metadata": {
        "id": "6RwjovSa8bM2",
        "colab_type": "code",
        "colab": {}
      },
      "source": [
        "#Create a Panda series\n",
        "s = pd.Series([4, 3.5, 5, \"HI\", [1,2]])\n",
        "s #print the dataframe"
      ],
      "execution_count": 0,
      "outputs": []
    },
    {
      "cell_type": "markdown",
      "metadata": {
        "id": "qKOEbQIn1_AU",
        "colab_type": "text"
      },
      "source": [
        "# **Assignment #1** \n",
        "Create a series called:<br>\n",
        ">towns<br>\n",
        "With the following values:<br>\n",
        ">\"San Jose\", \"KaiserSlautern\", \"Bangkok\", \"Singapore\""
      ]
    },
    {
      "cell_type": "code",
      "metadata": {
        "id": "GYnQw9uW2vu9",
        "colab_type": "code",
        "colab": {}
      },
      "source": [
        "#Assignment #1"
      ],
      "execution_count": 0,
      "outputs": []
    },
    {
      "cell_type": "markdown",
      "metadata": {
        "id": "fscwPYQ43KXH",
        "colab_type": "text"
      },
      "source": [
        "**Create a dataframe from two or more series**<br>\n",
        "Use the form: <br>\n",
        "\n",
        ">pd.DataFrame({column name:series name, column name:series name})\n"
      ]
    },
    {
      "cell_type": "code",
      "metadata": {
        "id": "k4cDVtP33QbE",
        "colab_type": "code",
        "colab": {}
      },
      "source": [
        "city_names = pd.Series(['San Francisco', 'San Jose', 'Sacramento'])\n",
        "population = pd.Series([852469, 1015785, 485199])\n",
        "\n",
        "pd.DataFrame({ 'City name': city_names, 'Population': population })"
      ],
      "execution_count": 0,
      "outputs": []
    },
    {
      "cell_type": "markdown",
      "metadata": {
        "id": "NRpDLy003kvH",
        "colab_type": "text"
      },
      "source": [
        "# **Assignment #2**\n",
        "Create a series of students names. The series should be 6 elements long. <br>\n",
        "Create a series of students grades. The series should be 6 elements long<br>\n",
        "Combine the two series into a DataFrame. "
      ]
    },
    {
      "cell_type": "code",
      "metadata": {
        "id": "EdmlGdN939Ov",
        "colab_type": "code",
        "colab": {}
      },
      "source": [
        "#Assignment #2"
      ],
      "execution_count": 0,
      "outputs": []
    },
    {
      "cell_type": "markdown",
      "metadata": {
        "id": "KWggVjLb7BSd",
        "colab_type": "text"
      },
      "source": [
        "**Create a DataFrame with unequal lengths of series**\n",
        "<br>\n",
        "This dataframe will be used lated in this course. \n"
      ]
    },
    {
      "cell_type": "code",
      "metadata": {
        "id": "UB7VzXwD6Iy-",
        "colab_type": "code",
        "colab": {}
      },
      "source": [
        "#There are 7 names in the student_names series\n",
        "student_names=pd.Series([\"bob\", \"ted\",\"alice\",\"max\",\"bill\", \"ida\", \"mark\"])\n",
        "#There are 5 id numbers in the student_id series\n",
        "student_id=pd.Series([float(\"NaN\"),112,113,114,115,116,])\n",
        "#The two DataFrames can still be combined into a DataFrame\n",
        "#Missing values are listed as NaN\n",
        "student_info = pd.DataFrame({ 'name': student_names, 'id': student_id })\n",
        "print(student_info)"
      ],
      "execution_count": 0,
      "outputs": []
    },
    {
      "cell_type": "markdown",
      "metadata": {
        "id": "fqdLiBApse5s",
        "colab_type": "text"
      },
      "source": [
        "**Remove from the dataframe any values that are missing**\n",
        "\n",
        "Use isna function to see the missing values<br>\n",
        "If the value is True, the data is missing"
      ]
    },
    {
      "cell_type": "code",
      "metadata": {
        "id": "I0cqQl4_sj1e",
        "colab_type": "code",
        "colab": {}
      },
      "source": [
        "student_info.isna()"
      ],
      "execution_count": 0,
      "outputs": []
    },
    {
      "cell_type": "markdown",
      "metadata": {
        "id": "klm1fHY4ur8S",
        "colab_type": "text"
      },
      "source": [
        "**Drop the rows that contain missing values**"
      ]
    },
    {
      "cell_type": "code",
      "metadata": {
        "id": "gagoyIfpuz6B",
        "colab_type": "code",
        "colab": {}
      },
      "source": [
        "student_info.dropna()"
      ],
      "execution_count": 0,
      "outputs": []
    },
    {
      "cell_type": "markdown",
      "metadata": {
        "id": "w1pAh8Cm54hp",
        "colab_type": "text"
      },
      "source": [
        "# **Assignment #3**\n",
        "Create a series of student_weights with 5 elements<br>\n",
        "Create a series of student_ages with 6 elements<br>\n",
        "Combine the two series into one DataFrame. One column should be called Student Weight, the other column should be called Student Age<br>\n",
        "Search for missing values"
      ]
    },
    {
      "cell_type": "code",
      "metadata": {
        "id": "gQP_HEl-7yGg",
        "colab_type": "code",
        "colab": {}
      },
      "source": [
        "#Assignment #3\n"
      ],
      "execution_count": 0,
      "outputs": []
    },
    {
      "cell_type": "markdown",
      "metadata": {
        "id": "rHY6FvOU4gsV",
        "colab_type": "text"
      },
      "source": [
        "# **Create a dataframe from a CSV file**"
      ]
    },
    {
      "cell_type": "markdown",
      "metadata": {
        "id": "Vf4g-V6s9H21",
        "colab_type": "text"
      },
      "source": [
        "Most of the time DataFrames are created from files. <br>\n",
        "Use the Pandas read_csv command to read a CSV file and load it as a DataFrame. "
      ]
    },
    {
      "cell_type": "code",
      "metadata": {
        "id": "FtCdoenG9JO5",
        "colab_type": "code",
        "colab": {}
      },
      "source": [
        "california_housing_dataframe = pd.read_csv(\"https://download.mlcc.google.com/mledu-datasets/california_housing_train.csv\", sep=\",\")\n",
        "california_housing_dataframe"
      ],
      "execution_count": 0,
      "outputs": []
    },
    {
      "cell_type": "markdown",
      "metadata": {
        "id": "0VXFKB9m8JfE",
        "colab_type": "text"
      },
      "source": [
        "**Print the last 5 rows in a dataset using the tail function. **"
      ]
    },
    {
      "cell_type": "code",
      "metadata": {
        "id": "JLnxfJmH85Ub",
        "colab_type": "code",
        "colab": {}
      },
      "source": [
        "california_housing_dataframe.head()"
      ],
      "execution_count": 0,
      "outputs": []
    },
    {
      "cell_type": "code",
      "metadata": {
        "id": "JCfyU8FcM7CR",
        "colab_type": "code",
        "colab": {}
      },
      "source": [
        "import seaborn as sns\n",
        "sns.set(style=\"white\")\n",
        "\n",
        "sns.relplot(x=\"longitude\", y=\"latitude\",  size=\"population\",\n",
        "            sizes=(40, 400), alpha=.5, palette=\"bright\",\n",
        "            height=6, data=california_housing_dataframe)"
      ],
      "execution_count": 0,
      "outputs": []
    },
    {
      "cell_type": "markdown",
      "metadata": {
        "id": "iPAgZGIilcgY",
        "colab_type": "text"
      },
      "source": [
        "# **Selecting subsets of a dataframe**"
      ]
    },
    {
      "cell_type": "markdown",
      "metadata": {
        "id": "3iFiHBSAm31h",
        "colab_type": "text"
      },
      "source": [
        "**Listing the indexes for the dataframe**"
      ]
    },
    {
      "cell_type": "code",
      "metadata": {
        "id": "vt7yJqkXlh5Y",
        "colab_type": "code",
        "colab": {}
      },
      "source": [
        "#create a dataframe\n",
        "df2 = pd.read_csv(\"oscarNoErrors.csv\", sep=\",\",error_bad_lines=False)\n",
        "df2.tail()"
      ],
      "execution_count": 0,
      "outputs": []
    },
    {
      "cell_type": "code",
      "metadata": {
        "id": "23_0RT-gnA4w",
        "colab_type": "code",
        "colab": {}
      },
      "source": [
        "#create a variable index to hold the indexes\n",
        "index = df2.index"
      ],
      "execution_count": 0,
      "outputs": []
    },
    {
      "cell_type": "code",
      "metadata": {
        "id": "mIfVNi2StaqB",
        "colab_type": "code",
        "colab": {}
      },
      "source": [
        "#create a variable to hold the column names\n",
        "columns1 = df2.columns\n",
        "columns1"
      ],
      "execution_count": 0,
      "outputs": []
    },
    {
      "cell_type": "code",
      "metadata": {
        "id": "-HwfpnUVp7JA",
        "colab_type": "code",
        "colab": {}
      },
      "source": [
        "#create a variable to hold all the values of the dataframe\n",
        "values = df2.values\n",
        "values"
      ],
      "execution_count": 0,
      "outputs": []
    },
    {
      "cell_type": "markdown",
      "metadata": {
        "id": "jxQJ3zKanmU3",
        "colab_type": "text"
      },
      "source": [
        "# **Assignment 3a**\n",
        "1. Create a Pandas dataframe using the California housing data<br>\n",
        "2. Create a variable to hold the column housing_median_age\n",
        "3. Create a variable to hold all the values in the dataset, without the column names. "
      ]
    },
    {
      "cell_type": "code",
      "metadata": {
        "id": "XDY0UbYlqM8z",
        "colab_type": "code",
        "colab": {}
      },
      "source": [
        "#Assignment 3a\n",
        "california_housing_dataframe = pd.read_csv(\"https://download.mlcc.google.com/mledu-datasets/california_housing_train.csv\", sep=\",\")"
      ],
      "execution_count": 0,
      "outputs": []
    },
    {
      "cell_type": "markdown",
      "metadata": {
        "id": "A0aYtJbhm87p",
        "colab_type": "text"
      },
      "source": [
        "**To select a columns of the dataframe**"
      ]
    },
    {
      "cell_type": "code",
      "metadata": {
        "id": "y_GXwIQvqe91",
        "colab_type": "code",
        "colab": {}
      },
      "source": [
        "#create a dataframe\n",
        "df2 = pd.read_csv(\"oscarNoErrors.csv\", sep=\",\",error_bad_lines=False)\n",
        "df2[[' \"Name\"',' \"Year\"']]"
      ],
      "execution_count": 0,
      "outputs": []
    },
    {
      "cell_type": "markdown",
      "metadata": {
        "id": "bv_YLHGCuvqD",
        "colab_type": "text"
      },
      "source": [
        "# **The .loc indexer**\n",
        "The .loc indexer selects data in a different way than just the indexing operator. It can select subsets of rows or columns. It can also simultaneously select subsets of rows and columns. Most importantly, it only selects data by the LABEL of the rows and columns.<br><br>\n",
        "\n",
        "https://pandas.pydata.org/pandas-docs/stable/reference/api/pandas.DataFrame.loc.html\n"
      ]
    },
    {
      "cell_type": "code",
      "metadata": {
        "id": "wp24wGvXq_2h",
        "colab_type": "code",
        "colab": {}
      },
      "source": [
        "#the .loc will return a single row of data when given the index of the row\n",
        "#It returns a dataframe when the columns names are now the index values\n",
        "print(california_housing_dataframe.columns)\n",
        "print(\"\\n\")\n",
        "#columns\n",
        "california_housing_dataframe.loc[:,'total_rooms']"
      ],
      "execution_count": 0,
      "outputs": []
    },
    {
      "cell_type": "code",
      "metadata": {
        "id": "SVCn1TRcHCdg",
        "colab_type": "code",
        "colab": {}
      },
      "source": [
        "#rows - use index values to identify rows\n",
        "df2 = pd.read_csv(\"oscarNoErrors.csv\", sep=\",\",error_bad_lines=False)\n",
        "print(\"returns a series: \\n\",df2.loc[84])\n",
        "print(\"\\n\\nreturns a dataframe: \\n\")\n",
        "df2.loc[[84]]"
      ],
      "execution_count": 0,
      "outputs": []
    },
    {
      "cell_type": "markdown",
      "metadata": {
        "id": "wWZ1PHQBvkH0",
        "colab_type": "text"
      },
      "source": [
        "# **Assignment 3b**\n",
        "1. Using the california housing data\n",
        "2.Create a dataframe from indexed rows 5-10<br><br>\n",
        "Hint use the colon-->  ':'"
      ]
    },
    {
      "cell_type": "code",
      "metadata": {
        "id": "PpT8gczav43B",
        "colab_type": "code",
        "colab": {}
      },
      "source": [
        "#Assignment 3b"
      ],
      "execution_count": 0,
      "outputs": []
    },
    {
      "cell_type": "markdown",
      "metadata": {
        "id": "aAQy-BntxpuB",
        "colab_type": "text"
      },
      "source": [
        "# **Assignment 3c**\n",
        "Using the california housing data<br>\n",
        "Create a dataframe from indexed rows 2-6 and longitude\tand latitude columns"
      ]
    },
    {
      "cell_type": "code",
      "metadata": {
        "id": "3EkVUWjNx65E",
        "colab_type": "code",
        "colab": {}
      },
      "source": [
        "#Assignment 3c"
      ],
      "execution_count": 0,
      "outputs": []
    },
    {
      "cell_type": "code",
      "metadata": {
        "id": "vqC1eZPQbWNY",
        "colab_type": "code",
        "colab": {},
        "cellView": "form"
      },
      "source": [
        "#@title \n",
        "dfsub = california_housing_dataframe.loc[5:10,[\"longitude\",\"latitude\"]]\n",
        "dfsub"
      ],
      "execution_count": 0,
      "outputs": []
    },
    {
      "cell_type": "code",
      "metadata": {
        "id": "xBkFEbmEbgS1",
        "colab_type": "code",
        "colab": {},
        "cellView": "form"
      },
      "source": [
        "#@title \n",
        "california_housing_dataframe.loc[2:6,['longitude','latitude']]"
      ],
      "execution_count": 0,
      "outputs": []
    },
    {
      "cell_type": "code",
      "metadata": {
        "id": "uEW6ENGnbkfN",
        "colab_type": "code",
        "colab": {},
        "cellView": "form"
      },
      "source": [
        "#@title\n",
        "california_housing_dataframe.loc[2:6,{'longitude','latitude'}]"
      ],
      "execution_count": 0,
      "outputs": []
    },
    {
      "cell_type": "markdown",
      "metadata": {
        "id": "n_K167wwyMRy",
        "colab_type": "text"
      },
      "source": [
        "# **The .iloc indexer**\n",
        "the iloc indexer is similar .loc, but .iloc only uses integer locations. <br><br>\n",
        "https://pandas.pydata.org/pandas-docs/stable/reference/api/pandas.DataFrame.iloc.html\n",
        "\n"
      ]
    },
    {
      "cell_type": "code",
      "metadata": {
        "id": "imGxvewPyu_e",
        "colab_type": "code",
        "colab": {}
      },
      "source": [
        "#select a single row\n",
        "print(df2.iloc[30])\n",
        "print(\"\\n\")\n",
        "print(df2.iloc[:,3])\n",
        "print(\"\\n\")\n",
        "df2.iloc[4:7,2:5]"
      ],
      "execution_count": 0,
      "outputs": []
    },
    {
      "cell_type": "code",
      "metadata": {
        "id": "V3J51GF6y3Ls",
        "colab_type": "code",
        "colab": {}
      },
      "source": [
        "#select multiple rows\n",
        "df2.iloc[[44,55,60]]"
      ],
      "execution_count": 0,
      "outputs": []
    },
    {
      "cell_type": "markdown",
      "metadata": {
        "id": "4HDRgre4zWYI",
        "colab_type": "text"
      },
      "source": [
        "# **Assignment 3d**\n",
        "Using the california housing data and iloc<br>\n",
        "Create a dataframe from indexed rows 2-6 and longitude\tand latitude columns"
      ]
    },
    {
      "cell_type": "code",
      "metadata": {
        "id": "gkBmGU1tzjKB",
        "colab_type": "code",
        "colab": {}
      },
      "source": [
        "#Assignment 3c, Using iloc\n"
      ],
      "execution_count": 0,
      "outputs": []
    },
    {
      "cell_type": "markdown",
      "metadata": {
        "id": "NXwrGOZ59FQX",
        "colab_type": "text"
      },
      "source": [
        "# **Assignment #4**\n",
        "Print the first 5 rows of the california_housing_dataframe. <br>\n",
        "Use the head *function*"
      ]
    },
    {
      "cell_type": "code",
      "metadata": {
        "id": "XAP8Tn_u9Q0b",
        "colab_type": "code",
        "colab": {}
      },
      "source": [
        "#Assignment #4\n"
      ],
      "execution_count": 0,
      "outputs": []
    },
    {
      "cell_type": "markdown",
      "metadata": {
        "id": "OXcH_06S9yWG",
        "colab_type": "text"
      },
      "source": [
        "**Once data is in a Pandas dataframe, it can be manipulated with Pandas commands.** "
      ]
    },
    {
      "cell_type": "markdown",
      "metadata": {
        "id": "sUO5kgVe-2Y9",
        "colab_type": "text"
      },
      "source": [
        "In the example below, print all the sections where the houses have a median age less than or equal to 20. "
      ]
    },
    {
      "cell_type": "code",
      "metadata": {
        "id": "Ht9mDa6Y9ymB",
        "colab_type": "code",
        "colab": {}
      },
      "source": [
        "column_name = california_housing_dataframe[\"housing_median_age\"]\n",
        "young_age = california_housing_dataframe.loc[(column_name<=20) ]\n",
        "young_age.count()"
      ],
      "execution_count": 0,
      "outputs": []
    },
    {
      "cell_type": "markdown",
      "metadata": {
        "id": "pbKevhqm_HcL",
        "colab_type": "text"
      },
      "source": [
        "# **Assignment #5**\n",
        "\n",
        "List all the sections where the median_income is greater than 3"
      ]
    },
    {
      "cell_type": "code",
      "metadata": {
        "id": "r7doLalODH-0",
        "colab_type": "code",
        "colab": {}
      },
      "source": [
        ""
      ],
      "execution_count": 0,
      "outputs": []
    },
    {
      "cell_type": "markdown",
      "metadata": {
        "id": "qe4oQF3IAsti",
        "colab_type": "text"
      },
      "source": [
        "**Pandas allows you to combine 2 or more data conditions**"
      ]
    },
    {
      "cell_type": "code",
      "metadata": {
        "id": "pR9rH8P_AYGS",
        "colab_type": "code",
        "colab": {}
      },
      "source": [
        "condition1_series1 = california_housing_dataframe[\"housing_median_age\"]<=20\n",
        "condition1_series2 = california_housing_dataframe[\"median_income\"]> 3.0\n",
        "\n",
        "california_housing_dataframe.loc[(condition1_series1) & (condition1_series2)]"
      ],
      "execution_count": 0,
      "outputs": []
    },
    {
      "cell_type": "code",
      "metadata": {
        "id": "_Fjrxd3EJA3K",
        "colab_type": "code",
        "colab": {}
      },
      "source": [
        "california_housing_dataframe.describe()"
      ],
      "execution_count": 0,
      "outputs": []
    },
    {
      "cell_type": "markdown",
      "metadata": {
        "id": "2Z89Gf5bBYx0",
        "colab_type": "text"
      },
      "source": [
        "# **Assignment #6**\n",
        "\n",
        "List all the sections of california_house_dataframe that:\n",
        "1. That have less than 200 bedrooms\n",
        "2. And have a median income greater than 4.0"
      ]
    },
    {
      "cell_type": "markdown",
      "metadata": {
        "id": "LmP3tyjKB_cT",
        "colab_type": "text"
      },
      "source": [
        "# **Check for missing data and count them**\n",
        "\n",
        "1. Create a function that returns the sum of all the missing values\n",
        "2. Apply the functon to the dataset"
      ]
    },
    {
      "cell_type": "code",
      "metadata": {
        "id": "yam4EINIB_nt",
        "colab_type": "code",
        "colab": {}
      },
      "source": [
        "#Create a new function:\n",
        "def num_missing(x):\n",
        "  return sum(x.isnull())\n",
        "\n",
        "#Applying per column:\n",
        "print (\"Missing values per column:\")\n",
        "#axis=0 defines that function is to be applied on each column\n",
        "print (california_housing_dataframe.apply(num_missing, axis=0)) \n",
        "\n",
        "\n",
        "#Applying per row:\n",
        "print (\"\\nMissing values per row:\")\n",
        " #axis=1 defines that function is to be applied on each row\n",
        "print (california_housing_dataframe.apply(num_missing, axis=1).head())"
      ],
      "execution_count": 0,
      "outputs": []
    },
    {
      "cell_type": "markdown",
      "metadata": {
        "id": "DaUrlCsoDXM7",
        "colab_type": "text"
      },
      "source": [
        "# **Assignment #7**\n",
        "\n",
        "Use the dataframe called student_info<br>\n",
        "Use the num_missing function to list the missing data"
      ]
    },
    {
      "cell_type": "markdown",
      "metadata": {
        "id": "zM4tJCCzEki9",
        "colab_type": "text"
      },
      "source": [
        "**Assignment #7 cont.**\n",
        "<br>\n",
        "Fix the missing values and run the num_missing function again. "
      ]
    },
    {
      "cell_type": "markdown",
      "metadata": {
        "id": "1DajkgFcIYHn",
        "colab_type": "text"
      },
      "source": [
        "# **Using Pandas with Problem CSV Files**\n",
        "\n",
        "Sometimes there are problems with a CSV file and you may not even be able to read it in correctly. \n",
        "For example in the example below when trying to read in a CSV file, an error occurs. "
      ]
    },
    {
      "cell_type": "code",
      "metadata": {
        "id": "NSSTTXbF90aB",
        "colab_type": "code",
        "colab": {}
      },
      "source": [
        "df2 = pd.read_csv(\"deniro.csv\",sep=\",\")\n",
        "df2"
      ],
      "execution_count": 0,
      "outputs": []
    },
    {
      "cell_type": "code",
      "metadata": {
        "id": "4GIWaob6NOmr",
        "colab_type": "code",
        "colab": {}
      },
      "source": [
        "!cat deniro.csv"
      ],
      "execution_count": 0,
      "outputs": []
    },
    {
      "cell_type": "markdown",
      "metadata": {
        "id": "SAojwakCOASa",
        "colab_type": "text"
      },
      "source": [
        "The problem with this file is hard to find because we can't even load the file. <br>\n",
        "To fix this problem, load the file and ignore all the lines that are bad. "
      ]
    },
    {
      "cell_type": "markdown",
      "metadata": {
        "id": "UBNU9I9nQVXS",
        "colab_type": "text"
      },
      "source": [
        ""
      ]
    },
    {
      "cell_type": "code",
      "metadata": {
        "id": "CWHuc2vyN_pb",
        "colab_type": "code",
        "colab": {}
      },
      "source": [
        "df2 = pd.read_csv(\"deniro.csv\",sep=\",\" ,error_bad_lines=False)\n",
        "df2"
      ],
      "execution_count": 0,
      "outputs": []
    },
    {
      "cell_type": "code",
      "metadata": {
        "id": "w-Hir0LaRVEf",
        "colab_type": "code",
        "colab": {}
      },
      "source": [
        "#Operating system commands\n",
        "!pwd  #print working directory\n",
        "!ls.  #list the contents of the working directory\n",
        "%cd .. #change directory up on level\n",
        "!pwd"
      ],
      "execution_count": 0,
      "outputs": []
    },
    {
      "cell_type": "markdown",
      "metadata": {
        "id": "peu6-MNxPn1q",
        "colab_type": "text"
      },
      "source": [
        "# **Assignment #8**\n",
        "\n",
        "1. Figure out what lines were skipped and why. <br>\n",
        "Hint: \n",
        "use cat to read the file<br>\n",
        "2. Add those lines to the dataframe\n",
        "\n",
        "<br>\n",
        "As an example: I have added a row to the dataframe for you. \n",
        "\n"
      ]
    },
    {
      "cell_type": "code",
      "metadata": {
        "id": "gjQtDjVXcpcA",
        "colab_type": "code",
        "colab": {}
      },
      "source": [
        "#Print the column names with the columns command\n",
        "df2.columns"
      ],
      "execution_count": 0,
      "outputs": []
    },
    {
      "cell_type": "code",
      "metadata": {
        "id": "_-NN_RYtRhDR",
        "colab_type": "code",
        "colab": {}
      },
      "source": [
        "#Create a dataFrame for the new row\n",
        "df_add = pd.DataFrame([[1970, 73, \"Hi Mom!\"]], columns =(['Year', ' Score', ' Title']))\n",
        "df_add"
      ],
      "execution_count": 0,
      "outputs": []
    },
    {
      "cell_type": "code",
      "metadata": {
        "id": "9T2jIW11jqn6",
        "colab_type": "code",
        "colab": {}
      },
      "source": [
        "#append the two dataFrames\n",
        "df3 = df2.append(df_add,sort=True, ignore_index=True)\n",
        "df3"
      ],
      "execution_count": 0,
      "outputs": []
    },
    {
      "cell_type": "code",
      "metadata": {
        "id": "f0-0AEgx-I4T",
        "colab_type": "code",
        "colab": {}
      },
      "source": [
        "#Sort the dataframe by Year\n",
        "df3.sort_values(by='Year')"
      ],
      "execution_count": 0,
      "outputs": []
    },
    {
      "cell_type": "code",
      "metadata": {
        "id": "cNYK5BMaCL_q",
        "colab_type": "code",
        "colab": {}
      },
      "source": [
        "#Assignment 8\n",
        "#Add the other rows that had errors\n",
        "#You can add them to the dataframe or fix them when reading in the file"
      ],
      "execution_count": 0,
      "outputs": []
    },
    {
      "cell_type": "markdown",
      "metadata": {
        "id": "dtB1_3UJI9xs",
        "colab_type": "text"
      },
      "source": [
        "**DataFrames can be Sorted by an axis:**<br>\n"
      ]
    },
    {
      "cell_type": "code",
      "metadata": {
        "id": "pmjfB2uLI-mv",
        "colab_type": "code",
        "colab": {}
      },
      "source": [
        "df3.sort_index(axis=1, ascending=False)"
      ],
      "execution_count": 0,
      "outputs": []
    },
    {
      "cell_type": "markdown",
      "metadata": {
        "id": "8xQC79arnEQB",
        "colab_type": "text"
      },
      "source": [
        "# **Assignment #9**<br>\n",
        "Load the file called oscar_winners.csv into a Pandas DataFrame. \n",
        "Fix any problems you encounter. "
      ]
    },
    {
      "cell_type": "code",
      "metadata": {
        "id": "1SyEZ5xLcAoY",
        "colab_type": "code",
        "colab": {}
      },
      "source": [
        "%cd cloned-repo\n",
        "!cat oscar_winners.csv"
      ],
      "execution_count": 0,
      "outputs": []
    },
    {
      "cell_type": "code",
      "metadata": {
        "id": "rsDKKKo8Tz3A",
        "colab_type": "code",
        "cellView": "form",
        "colab": {}
      },
      "source": [
        "#@title \n",
        "df2 = pd.read_csv(\"oscar_winners.csv\", sep=\",\",error_bad_lines=False, skipinitialspace = True, quotechar='\"')\n",
        "df2"
      ],
      "execution_count": 0,
      "outputs": []
    },
    {
      "cell_type": "markdown",
      "metadata": {
        "id": "1NN-OvHYnKuk",
        "colab_type": "text"
      },
      "source": [
        "# **Assignment #10**\n",
        "1. Read the letter_frequency.csv file. <br>\n",
        "> It has the letter, number of times the letter appears in a document, and the percentage of the frequency of the letter. <br>\n",
        "\n",
        "2. Print all the *vowels* whose frequency is greater than the frequency of the letter 'U'. \n"
      ]
    },
    {
      "cell_type": "code",
      "metadata": {
        "id": "WWXvrwJxu7Om",
        "colab_type": "code",
        "colab": {}
      },
      "source": [
        "#Assignment #10\n"
      ],
      "execution_count": 0,
      "outputs": []
    },
    {
      "cell_type": "code",
      "metadata": {
        "id": "pMsHq6ZTa5tq",
        "colab_type": "code",
        "colab": {},
        "cellView": "form"
      },
      "source": [
        "#@title \n",
        "data =pd.read_csv(\"letter_frequency.csv\",sep=\",\", error_bad_lines=False, skipinitialspace = True, quotechar='\"')\n",
        "condition1_series1 = data[\"Frequency\"]> data.loc[20,\"Frequency\"]\n",
        "filtered_data = data.loc[condition1_series1]\n",
        "letter = filtered_data.Letter\n",
        "vowels = [\"A\", \"E\", \"I\", \"O\"]\n",
        "for l in letter:\n",
        "  if l in vowels:\n",
        "    print(l)"
      ],
      "execution_count": 0,
      "outputs": []
    },
    {
      "cell_type": "code",
      "metadata": {
        "id": "Db4JpIzta_8s",
        "colab_type": "code",
        "colab": {},
        "cellView": "form"
      },
      "source": [
        "#@title\n",
        "data =pd.read_csv(\"letter_frequency.csv\",sep=\",\", error_bad_lines=False, skipinitialspace=True)\n",
        "cond_U = (data['Letter']=='U')\n",
        "freq_U = data.loc[cond_U, 'Frequency'].tolist()\n",
        "\n",
        "cond_OtherVowel = ((data.Letter==\"A\") | (data.Letter==\"E\") | (data.Letter==\"I\") | (data.Letter==\"O\"))\n",
        "cond_cnt = data.Frequency>freq_U[0]\n",
        "\n",
        "subset = data.loc[(cond_OtherVowel) & (cond_cnt)]\n",
        "subset"
      ],
      "execution_count": 0,
      "outputs": []
    },
    {
      "cell_type": "code",
      "metadata": {
        "id": "vM-pGMxZbGFX",
        "colab_type": "code",
        "colab": {},
        "cellView": "form"
      },
      "source": [
        "#@title \n",
        "data.loc[ (data['Frequency'] > data.loc[20, 'Frequency']) & data['Letter'].str.contains('A|E|I|O|U') ]"
      ],
      "execution_count": 0,
      "outputs": []
    },
    {
      "cell_type": "markdown",
      "metadata": {
        "id": "naxWILsG-sxC",
        "colab_type": "text"
      },
      "source": [
        "# **Assignment #11**\n",
        "**When reading in CSV files, you must really understand your data **<br><br>\n",
        "Load letter_frequency.csv into a dataframe.<br>\n",
        "1. Print out the column names<br>\n",
        ">print(dataframe-name.columns)<br>\n",
        "2. Print out a row<br>\n",
        ">print(dataframe-name.loc[[row#]])<br>\n",
        "3. Print out a specific value<br>\n",
        ">dataframe-name.at[row#, column name]"
      ]
    },
    {
      "cell_type": "markdown",
      "metadata": {
        "id": "DuhaZkVSQ3j2",
        "colab_type": "text"
      },
      "source": [
        "**Categorizing Variables**"
      ]
    },
    {
      "cell_type": "code",
      "metadata": {
        "id": "SyvmLRXZQ3uG",
        "colab_type": "code",
        "colab": {}
      },
      "source": [
        "#Create a dataframe\n",
        "data = pd.DataFrame({'food': ['bacon', 'pulled pork', 'bacon', 'Pastrami',\n",
        "                              'corned beef', 'Bacon', 'pastrami', 'honey ham','nova lox'],\n",
        "                 'ounces': [4, 3, 12, 6, 7.5, 8, 3, 5, 6]})\n",
        "data"
      ],
      "execution_count": 0,
      "outputs": []
    },
    {
      "cell_type": "markdown",
      "metadata": {
        "id": "74n4ZZYKQcY0",
        "colab_type": "text"
      },
      "source": [
        "**Referencing columns by name and index**"
      ]
    },
    {
      "cell_type": "code",
      "metadata": {
        "id": "bw0Vacs-Prnr",
        "colab_type": "code",
        "colab": {}
      },
      "source": [
        "#data.loc[: , \"food\"]\n",
        "data[data.columns[0]]"
      ],
      "execution_count": 0,
      "outputs": []
    },
    {
      "cell_type": "markdown",
      "metadata": {
        "id": "nVfuklQzRaUz",
        "colab_type": "text"
      },
      "source": [
        "Add a column that contains a variable for the source of food. "
      ]
    },
    {
      "cell_type": "code",
      "metadata": {
        "id": "v4qFicYuRZja",
        "colab_type": "code",
        "colab": {}
      },
      "source": [
        "#Step 1: create dictionary to map the food-source relationship\n",
        "meat_to_animal = {\n",
        "    'bacon': 'pig',\n",
        "    'pulled pork': 'pig',\n",
        "    'pastrami': 'cow',\n",
        "    'corned beef': 'cow',\n",
        "    'honey ham': 'pig',\n",
        "    'nova lox': 'salmon'\n",
        "}"
      ],
      "execution_count": 0,
      "outputs": []
    },
    {
      "cell_type": "code",
      "metadata": {
        "id": "ryBPxGWiSz48",
        "colab_type": "code",
        "colab": {}
      },
      "source": [
        "#create a new variable\n",
        "data['animal'] = data['food'].map(str.lower).map(meat_to_animal)\n",
        "data"
      ],
      "execution_count": 0,
      "outputs": []
    },
    {
      "cell_type": "code",
      "metadata": {
        "id": "s3jM0F8CSF5_",
        "colab_type": "code",
        "colab": {}
      },
      "source": [
        "#Or add the new variable using the assign function\n",
        "#Notice with this method I created a new dataframe\n",
        "new_data = data.assign(family_serving = data['ounces']*10)\n",
        "new_data"
      ],
      "execution_count": 0,
      "outputs": []
    },
    {
      "cell_type": "markdown",
      "metadata": {
        "id": "Bxc2WoZQTf3K",
        "colab_type": "text"
      },
      "source": [
        "**Drop a column**"
      ]
    },
    {
      "cell_type": "code",
      "metadata": {
        "id": "FO4NU-MITiJH",
        "colab_type": "code",
        "colab": {}
      },
      "source": [
        "new_data.drop('family_serving',axis='columns',inplace=True)\n",
        "new_data"
      ],
      "execution_count": 0,
      "outputs": []
    },
    {
      "cell_type": "markdown",
      "metadata": {
        "id": "Ljp5g_4FTUY3",
        "colab_type": "text"
      },
      "source": [
        "# **Assignment #12**<br>\n",
        "\n",
        "1. Use the testTitanic.csv file to create a dataframe. <br>\n",
        "survival - Survival (0 = No; 1 = Yes)<br>\n",
        "class - Passenger Class (1 = 1st; 2 = 2nd; 3 = 3rd)<br>\n",
        "name - Name<br>\n",
        "sex - Sex<br>\n",
        "age - Age<br>\n",
        "sibsp - Number of Siblings/Spouses Aboard<br>\n",
        "parch - Number of Parents/Children Aboard<br>\n",
        "ticket - Ticket Number<br>\n",
        "fare - Passenger Fare<br>\n",
        "cabin - Cabin<br>\n",
        "embarked - Port of Embarkation <br>\n",
        "(C = Cherbourg; Q = Queenstown; S = Southampton)<br>\n",
        "<br>\n",
        "\n",
        "2. Add a column for citizenship based on embark point. <br>\n",
        ">April 10, 1912 Passengers in Southampton, England, board the ship. <br>\n",
        "April 11, 1912 after stopping in France the Titanic picks up more passengers in Queenstown, Ireland<br>\n",
        "\n",
        "3. Drop the SibSp column"
      ]
    },
    {
      "cell_type": "markdown",
      "metadata": {
        "id": "T3zzruP9WkEh",
        "colab_type": "text"
      },
      "source": [
        "**Rename Columns and Row**"
      ]
    },
    {
      "cell_type": "code",
      "metadata": {
        "id": "G7QvfdGrWoIx",
        "colab_type": "code",
        "colab": {}
      },
      "source": [
        "data = pd.DataFrame(np.arange(12).reshape((3, 4)),index=['Ohio', 'Colorado', 'New York'],\n",
        "                    columns=['one', 'two', 'three', 'four'])\n",
        "data"
      ],
      "execution_count": 0,
      "outputs": []
    },
    {
      "cell_type": "markdown",
      "metadata": {
        "id": "qOMEG99jW62i",
        "colab_type": "text"
      },
      "source": [
        "**Use the rename function**<br>\n",
        "Rename a row using the rename function"
      ]
    },
    {
      "cell_type": "code",
      "metadata": {
        "id": "Yp55DjpUW0rn",
        "colab_type": "code",
        "colab": {}
      },
      "source": [
        "#Using rename function\n",
        "data.rename(index = {'Ohio':'Iowa'}, columns={'one':'one_p','two':'two_p'},inplace=True)\n",
        "data"
      ],
      "execution_count": 0,
      "outputs": []
    },
    {
      "cell_type": "markdown",
      "metadata": {
        "id": "bXvYL7gtXKec",
        "colab_type": "text"
      },
      "source": [
        "**Rename a column**<br>\n",
        "Rename a column using the rename function"
      ]
    },
    {
      "cell_type": "code",
      "metadata": {
        "id": "5yh_vvelXKn0",
        "colab_type": "code",
        "colab": {}
      },
      "source": [
        "#Using rename function\n",
        "data.rename(columns={'one':'one_p','two':'two_p'},inplace=True)\n",
        "data"
      ],
      "execution_count": 0,
      "outputs": []
    },
    {
      "cell_type": "markdown",
      "metadata": {
        "id": "O5a_ZVZ8XbxQ",
        "colab_type": "text"
      },
      "source": [
        "Use the rename function to change the case for a column"
      ]
    },
    {
      "cell_type": "code",
      "metadata": {
        "id": "He2v4jDVXkvC",
        "colab_type": "code",
        "colab": {}
      },
      "source": [
        "#Use the string function with the rename function\n",
        "data.rename(index = str.upper, columns=str.title,inplace=True)\n",
        "data"
      ],
      "execution_count": 0,
      "outputs": []
    },
    {
      "cell_type": "markdown",
      "metadata": {
        "id": "Qjg3skmmXuUX",
        "colab_type": "text"
      },
      "source": [
        "# **Assignment #13**\n",
        "1. Use the testTitanic.csv file to create a dataframe. <br>\n",
        "2. Change the values in the Sex column to:<br>\n",
        ">M for Male, F for female\n"
      ]
    },
    {
      "cell_type": "markdown",
      "metadata": {
        "id": "YmxAnx1RYS1P",
        "colab_type": "text"
      },
      "source": [
        "**Binning continuous variables**<br>\n"
      ]
    },
    {
      "cell_type": "code",
      "metadata": {
        "id": "DbHnGfeqYdQZ",
        "colab_type": "code",
        "colab": {}
      },
      "source": [
        "#Create a series\n",
        "ages = [20, 22, 25, 27, 21, 23, 37, 31, 61, 45, 120, 32]"
      ],
      "execution_count": 0,
      "outputs": []
    },
    {
      "cell_type": "markdown",
      "metadata": {
        "id": "PvUuPp6UYmo8",
        "colab_type": "text"
      },
      "source": [
        "Create bins for each age range"
      ]
    },
    {
      "cell_type": "code",
      "metadata": {
        "id": "_w6sf0y3Yw8Q",
        "colab_type": "code",
        "colab": {}
      },
      "source": [
        "#Understanding the output - \n",
        "#'(' means the value is included in the bin, \n",
        "#'[' means the value is excluded\n",
        "\n",
        "bins = [18, 25, 35, 60, 100, 120]\n",
        "cats = pd.cut(ages, bins)\n",
        "cats"
      ],
      "execution_count": 0,
      "outputs": []
    },
    {
      "cell_type": "code",
      "metadata": {
        "id": "Ad_BMTbpZ6or",
        "colab_type": "code",
        "colab": {}
      },
      "source": [
        "pd.value_counts(cats)"
      ],
      "execution_count": 0,
      "outputs": []
    },
    {
      "cell_type": "code",
      "metadata": {
        "id": "SLQJpOcAaKBI",
        "colab_type": "code",
        "colab": {}
      },
      "source": [
        "bin_names = ['Youth', 'YoungAdult', 'MiddleAge', 'Senior', 'Ancient']\n",
        "new_cats = pd.cut(ages, bins,labels=bin_names)\n",
        "\n",
        "pd.value_counts(new_cats)"
      ],
      "execution_count": 0,
      "outputs": []
    },
    {
      "cell_type": "code",
      "metadata": {
        "id": "OB64q1C7aciC",
        "colab_type": "code",
        "colab": {}
      },
      "source": [
        "#Cumulative Sum\n",
        "pd.value_counts(new_cats).cumsum()"
      ],
      "execution_count": 0,
      "outputs": []
    },
    {
      "cell_type": "markdown",
      "metadata": {
        "id": "pLYqESnbav0I",
        "colab_type": "text"
      },
      "source": [
        "# **Assignment #14**\n",
        "1. Use the testTitanic.csv file to create a dataframe. <br>\n",
        "2. Bin the ages of the passengers"
      ]
    },
    {
      "cell_type": "markdown",
      "metadata": {
        "id": "GETB7cYGhc-L",
        "colab_type": "text"
      },
      "source": [
        "# **Writing to an Excel Spreadsheet**\n",
        "The code to write to an Excel speadsheet is fairly straight foward: <br>\n",
        "1. Create a Pandas dataframe\n",
        "2. Create a pathname to the .xlsx file\n",
        "3. Use the builtin method to_excel<br><Br>\n",
        "\n",
        "I do not have Excel, so I cannot check that this code actually produces something that you would want...but it does create a file with an .xlsx extension. \n"
      ]
    },
    {
      "cell_type": "code",
      "metadata": {
        "id": "jNecaJDohdM0",
        "colab_type": "code",
        "colab": {}
      },
      "source": [
        "## convert your array into a dataframe\n",
        "dataframe = pd.read_csv(\"letter_frequency.csv\", quotechar='\"', skipinitialspace=True, sep=\",\",error_bad_lines=False) \n",
        "\n",
        "## save to xlsx file\n",
        "filepath = 'my_excel_file.xlsx'\n",
        "\n",
        "dataframe.to_excel(filepath, index=False)"
      ],
      "execution_count": 0,
      "outputs": []
    }
  ]
}