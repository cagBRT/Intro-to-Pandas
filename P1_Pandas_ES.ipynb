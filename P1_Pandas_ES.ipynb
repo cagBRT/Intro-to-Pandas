{
  "nbformat": 4,
  "nbformat_minor": 0,
  "metadata": {
    "colab": {
      "private_outputs": true,
      "provenance": []
    },
    "kernelspec": {
      "name": "python3",
      "display_name": "Python 3"
    }
  },
  "cells": [
    {
      "cell_type": "markdown",
      "metadata": {
        "id": "D2_mPaEoMldH"
      },
      "source": [
        "[I love Pandas!](https://youtu.be/6UvbhER4RmM)"
      ]
    },
    {
      "cell_type": "markdown",
      "metadata": {
        "id": "fW-iQO9j2Vy7"
      },
      "source": [
        "\n",
        "Las capacidades de pandas para la manipulación de datos están construidas en base de la librería de numpy. De cierto modo, numpy es una dependencia de la librería de pandas. <br>\n",
        "Pandas es lo mejor para manejar conjuntos de datos tabulares compuestos por diferetes tipos de variables (enteros, float, double, etc.). Además de esto, la librería de pandas puede ser utilizada para realizar las tareas más primitivas como cargar datos o ingeniería de atributos (feature engineering) con series de tiempo.\n"
      ]
    },
    {
      "cell_type": "code",
      "metadata": {
        "id": "mfVrbia1NjyT"
      },
      "source": [
        "# Clona el repositorio completo.\n",
        "!git clone -l -s https://github.com/cagBRT/Intro-to-Pandas.git cloned-repo\n",
        "%cd cloned-repo\n",
        "!ls"
      ],
      "execution_count": null,
      "outputs": []
    },
    {
      "cell_type": "code",
      "metadata": {
        "id": "pTXRUnfJN8hq"
      },
      "source": [
        "from IPython.display import Image\n",
        "def page(num):\n",
        "    return Image(\"Pandas\"+str(num)+ \".png\" , width=640)"
      ],
      "execution_count": null,
      "outputs": []
    },
    {
      "cell_type": "code",
      "metadata": {
        "id": "A-A2ngKXx7K0"
      },
      "source": [
        "import pandas as pd\n",
        "import numpy as np"
      ],
      "execution_count": null,
      "outputs": []
    },
    {
      "cell_type": "markdown",
      "metadata": {
        "id": "EE--Ejra5XsE"
      },
      "source": [
        "# **Componenetes centrales de pandas: Series y DataFrames**\n",
        "\n",
        "Una Serie es una columna de datos<br>\n",
        "Un DataFrame es una tabla multi-dimensional compuesto de una colección de Series<br>"
      ]
    },
    {
      "cell_type": "code",
      "metadata": {
        "id": "dybeNHH1l4Dh"
      },
      "source": [
        "Image(\"Pandas(1).png\" , width=640)"
      ],
      "execution_count": null,
      "outputs": []
    },
    {
      "cell_type": "code",
      "metadata": {
        "id": "6RwjovSa8bM2"
      },
      "source": [
        "#Create una serie de pandas\n",
        "s = pd.Series([4, 3.5, 5, \"HI\", [1,2]])\n",
        "s #imprime el dataframe"
      ],
      "execution_count": null,
      "outputs": []
    },
    {
      "cell_type": "markdown",
      "metadata": {
        "id": "qKOEbQIn1_AU"
      },
      "source": [
        "# **Actividad #1** \n",
        "Crea una serie llamada:<br>\n",
        ">ciudades<br>\n",
        "Con los siguientes valores:<br>\n",
        ">\"San Jose\", \"KaiserSlautern\", \"Bangkok\", \"Singapore\""
      ]
    },
    {
      "cell_type": "code",
      "metadata": {
        "id": "GYnQw9uW2vu9"
      },
      "source": [
        "#Actividad #1"
      ],
      "execution_count": null,
      "outputs": []
    },
    {
      "cell_type": "markdown",
      "metadata": {
        "id": "fscwPYQ43KXH"
      },
      "source": [
        "**Crea un dataframe a partir de dos o más series**<br>\n",
        "Usa la forma: <br>\n",
        "\n",
        ">pd.DataFrame({**nombre de columna:**nombre de serie,  **nombre de columna:**nombre de serie})\n"
      ]
    },
    {
      "cell_type": "code",
      "metadata": {
        "id": "k4cDVtP33QbE"
      },
      "source": [
        "city_names = pd.Series(['San Francisco', 'San Jose', 'Sacramento']) #Ciudades\n",
        "population = pd.Series([852469, 1015785, 485199]) #Poblacion\n",
        "\n",
        "pd.DataFrame({ 'City name': city_names, 'Population': population })"
      ],
      "execution_count": null,
      "outputs": []
    },
    {
      "cell_type": "markdown",
      "metadata": {
        "id": "NRpDLy003kvH"
      },
      "source": [
        "# **Actividad #2**\n",
        "\n",
        "Crea una serie con nombres de estudiantes. La serie debe tener 6 elementos<br>\n",
        "Crea una serie con las calificaciones de cada estudiante. La serie deben de tener 6 elementos<br>\n",
        "Combina las dos series en un dataframe"
      ]
    },
    {
      "cell_type": "code",
      "metadata": {
        "id": "EdmlGdN939Ov"
      },
      "source": [
        "#Actividad #2"
      ],
      "execution_count": null,
      "outputs": []
    },
    {
      "cell_type": "markdown",
      "metadata": {
        "id": "KWggVjLb7BSd"
      },
      "source": [
        "**Crea un dataframe con series de diferentes tamaños**\n",
        "<br>\n",
        "Este dataframe será usado posterriormente en este curso\n"
      ]
    },
    {
      "cell_type": "code",
      "metadata": {
        "id": "UB7VzXwD6Iy-"
      },
      "source": [
        "#Hay 7 nombres en la serie student_names\n",
        "student_names=pd.Series([\"bob\", \"ted\",\"alice\",\"max\",\"bill\", \"ida\", \"mark\"])\n",
        "#Hay 5 IDs en la serie de student_id\n",
        "student_id=pd.Series([float(\"NaN\"),112,113,114,115,116,])\n",
        "#Las dos series aun pueden ser combinadas en un DataFrames\n",
        "#Los valores faltantes son listados como NaN\n",
        "student_info = pd.DataFrame({ 'name': student_names, 'id': student_id })\n",
        "print(student_info)"
      ],
      "execution_count": null,
      "outputs": []
    },
    {
      "cell_type": "markdown",
      "metadata": {
        "id": "fqdLiBApse5s"
      },
      "source": [
        "**Quita del dataframe cualquier valor faltante**\n",
        "\n",
        "Usa la función isna() para ver los valores faltantes.<br>\n",
        "Si el valor retornado es True, entonces faltan datos"
      ]
    },
    {
      "cell_type": "code",
      "metadata": {
        "id": "I0cqQl4_sj1e"
      },
      "source": [
        "student_info.isna()"
      ],
      "execution_count": null,
      "outputs": []
    },
    {
      "cell_type": "markdown",
      "metadata": {
        "id": "klm1fHY4ur8S"
      },
      "source": [
        "**Quita los renglones que contengan los valores faltantes**"
      ]
    },
    {
      "cell_type": "code",
      "metadata": {
        "id": "gagoyIfpuz6B"
      },
      "source": [
        "student_info.dropna()"
      ],
      "execution_count": null,
      "outputs": []
    },
    {
      "cell_type": "markdown",
      "metadata": {
        "id": "w1pAh8Cm54hp"
      },
      "source": [
        "# **Actividad #3**\n",
        "Crea una serie con el peso de los estudiantes llamado student_weights con 5 elementos<br>\n",
        "Crea una serie de edades llamada student_ages con 6 elementos<br>\n",
        "Combina las dos series en un solo DataFrame. Una columna deberá ser llamada \"Peso del estudiante\", la otra columna debe llamarse \"Edad de estudiante\"<br>\n",
        "Busca si hay valores faltantes"
      ]
    },
    {
      "cell_type": "code",
      "metadata": {
        "id": "gQP_HEl-7yGg"
      },
      "source": [
        "#Assignment #3\n"
      ],
      "execution_count": null,
      "outputs": []
    },
    {
      "cell_type": "markdown",
      "metadata": {
        "id": "rHY6FvOU4gsV"
      },
      "source": [
        "# **Crea un dataframe a partir de un archivo CSV**"
      ]
    },
    {
      "cell_type": "markdown",
      "metadata": {
        "id": "Vf4g-V6s9H21"
      },
      "source": [
        "La mayor parte del tiempo los DataFrames son creados a partir de archivos. <br>\n",
        "Usa la función de pandas **read_csv** para leer un archivo **.CSV** y cargarlos como un DataFrame. "
      ]
    },
    {
      "cell_type": "code",
      "metadata": {
        "id": "FtCdoenG9JO5"
      },
      "source": [
        "california_housing_dataframe = pd.read_csv(\"https://download.mlcc.google.com/mledu-datasets/california_housing_train.csv\", sep=\",\")\n",
        "california_housing_dataframe"
      ],
      "execution_count": null,
      "outputs": []
    },
    {
      "cell_type": "markdown",
      "metadata": {
        "id": "0VXFKB9m8JfE"
      },
      "source": [
        "**Imprime los últimos 5 renglones en el dataset usando la función tail()**\n",
        "\n",
        "**Puedes hacer los mismo con los primeros 5 usando head()**"
      ]
    },
    {
      "cell_type": "code",
      "metadata": {
        "id": "JLnxfJmH85Ub"
      },
      "source": [
        "california_housing_dataframe.head()"
      ],
      "execution_count": null,
      "outputs": []
    },
    {
      "cell_type": "code",
      "metadata": {
        "id": "JCfyU8FcM7CR"
      },
      "source": [
        "import seaborn as sns\n",
        "sns.set(style=\"white\")\n",
        "\n",
        "sns.relplot(x=\"longitude\", y=\"latitude\",  size=\"population\",\n",
        "            sizes=(40, 400), alpha=.5, palette=\"bright\",\n",
        "            height=6, data=california_housing_dataframe)"
      ],
      "execution_count": null,
      "outputs": []
    },
    {
      "cell_type": "markdown",
      "metadata": {
        "id": "iPAgZGIilcgY"
      },
      "source": [
        "# **Seleccionando subconjuntos (subsets) de un dataframe**\n",
        "\n",
        "---\n",
        "\n"
      ]
    },
    {
      "cell_type": "markdown",
      "metadata": {
        "id": "3iFiHBSAm31h"
      },
      "source": [
        "**Listando los índices para el dataframe**"
      ]
    },
    {
      "cell_type": "code",
      "metadata": {
        "id": "vt7yJqkXlh5Y"
      },
      "source": [
        "#Crea un data frame\n",
        "df2 = pd.read_csv(\"oscarNoErrors.csv\", sep=\",\",error_bad_lines=False)\n",
        "df2.tail()"
      ],
      "execution_count": null,
      "outputs": []
    },
    {
      "cell_type": "code",
      "metadata": {
        "id": "23_0RT-gnA4w"
      },
      "source": [
        "#create una variable index para mantener los índices\n",
        "index = df2.index"
      ],
      "execution_count": null,
      "outputs": []
    },
    {
      "cell_type": "code",
      "metadata": {
        "id": "mIfVNi2StaqB"
      },
      "source": [
        "#create una variable para guardar el nombre de las columnas\n",
        "columns1 = df2.columns\n",
        "columns1"
      ],
      "execution_count": null,
      "outputs": []
    },
    {
      "cell_type": "code",
      "metadata": {
        "id": "-HwfpnUVp7JA"
      },
      "source": [
        "#Crea una variable para guardar todos los valores del data frame\n",
        "values = df2.values\n",
        "values"
      ],
      "execution_count": null,
      "outputs": []
    },
    {
      "cell_type": "markdown",
      "metadata": {
        "id": "jxQJ3zKanmU3"
      },
      "source": [
        "# **Actividad 3a**\n",
        "1. Crea un dataframe de pandas usando los datos de vivienda de California.\n",
        "2. Crea una variable para guardar la columna de housing_median_age.\n",
        "3. Crea una variable para guardar todos los valores en el dataset, sin los nombres de columna."
      ]
    },
    {
      "cell_type": "code",
      "metadata": {
        "id": "XDY0UbYlqM8z"
      },
      "source": [
        "#Actividad 3a\n",
        "california_housing_dataframe = pd.read_csv(\"https://download.mlcc.google.com/mledu-datasets/california_housing_train.csv\", sep=\",\")"
      ],
      "execution_count": null,
      "outputs": []
    },
    {
      "cell_type": "markdown",
      "metadata": {
        "id": "A0aYtJbhm87p"
      },
      "source": [
        "**Para seleccionar las columnaas de un dataframe**"
      ]
    },
    {
      "cell_type": "code",
      "metadata": {
        "id": "y_GXwIQvqe91"
      },
      "source": [
        "#crea un dataframe\n",
        "df2 = pd.read_csv(\"oscarNoErrors.csv\", sep=\",\",error_bad_lines=False)\n",
        "df2[[' \"Name\"',' \"Year\"']]"
      ],
      "execution_count": null,
      "outputs": []
    },
    {
      "cell_type": "markdown",
      "metadata": {
        "id": "bv_YLHGCuvqD"
      },
      "source": [
        "# **El indexador .loc (indexer)**\n",
        "\n",
        "El indexador .loc selecciona datos de una forma diferente a solo usar el operador indexador. Este tambien puede seleccionar subconjuntos(subsets) de renglones o columnas. Aun más importante, puede solo seleccionar datos por la LABEL(etiqueta) del renglón o columna.<br>\n",
        "\n",
        "https://pandas.pydata.org/pandas-docs/stable/reference/api/pandas.DataFrame.loc.html\n"
      ]
    },
    {
      "cell_type": "code",
      "metadata": {
        "id": "wp24wGvXq_2h"
      },
      "source": [
        "# .loc retornara un solo renglon de datos cuando se le el indice del renglon\n",
        "# y devolvera un dataframe cuando se usan los nombres de las colmnas como indices\n",
        "print(california_housing_dataframe.columns)\n",
        "print(\"\\n\")\n",
        "#columnas\n",
        "california_housing_dataframe.loc[:,'total_rooms']"
      ],
      "execution_count": null,
      "outputs": []
    },
    {
      "cell_type": "code",
      "metadata": {
        "id": "SVCn1TRcHCdg"
      },
      "source": [
        "#renglones - usa valores de indice para obtener renglones\n",
        "df2 = pd.read_csv(\"oscarNoErrors.csv\", sep=\",\",error_bad_lines=False)\n",
        "print(\"Asi retorna una serie: \\n\",df2.loc[84]) \n",
        "print(\"\\n Asi retorna un dataframe: \\n\")\n",
        "print(df2.loc[[84]]) "
      ],
      "execution_count": null,
      "outputs": []
    },
    {
      "cell_type": "markdown",
      "metadata": {
        "id": "wWZ1PHQBvkH0"
      },
      "source": [
        "# **Actividad 3b**\n",
        "1. Utiliza los datos de vivienda en California\n",
        "2.Crea un dataframe indexando los renglones 5-10<br><br>\n",
        "PISTA: Usa los dos puntos  **':'**"
      ]
    },
    {
      "cell_type": "code",
      "metadata": {
        "id": "PpT8gczav43B"
      },
      "source": [
        "#Actividad 3b"
      ],
      "execution_count": null,
      "outputs": []
    },
    {
      "cell_type": "markdown",
      "metadata": {
        "id": "aAQy-BntxpuB"
      },
      "source": [
        "# **Actividad 3c**\n",
        "Utilizando los datos de vivienda de California<br>\n",
        "Crea un dataframe indexando los renglones 2-6 y las columnas de longitud (\"longitud\") y latitud (\"latitude\")"
      ]
    },
    {
      "cell_type": "code",
      "metadata": {
        "id": "3EkVUWjNx65E"
      },
      "source": [
        "#Actividad 3c"
      ],
      "execution_count": null,
      "outputs": []
    },
    {
      "cell_type": "code",
      "metadata": {
        "id": "vqC1eZPQbWNY",
        "cellView": "form"
      },
      "source": [
        "#@title \n",
        "dfsub = california_housing_dataframe.loc[5:10,[\"longitude\",\"latitude\"]]\n",
        "dfsub"
      ],
      "execution_count": null,
      "outputs": []
    },
    {
      "cell_type": "code",
      "metadata": {
        "id": "xBkFEbmEbgS1",
        "cellView": "form"
      },
      "source": [
        "#@title \n",
        "california_housing_dataframe.loc[2:6,['longitude','latitude']]"
      ],
      "execution_count": null,
      "outputs": []
    },
    {
      "cell_type": "code",
      "metadata": {
        "id": "uEW6ENGnbkfN",
        "cellView": "form"
      },
      "source": [
        "#@title\n",
        "california_housing_dataframe.loc[2:6,{'longitude','latitude'}]"
      ],
      "execution_count": null,
      "outputs": []
    },
    {
      "cell_type": "markdown",
      "metadata": {
        "id": "n_K167wwyMRy"
      },
      "source": [
        "# **El indexador .iloc**\n",
        "El indexador iloc es similar a .loc, pero .iloc solo utiliza indices enteros<br><br>\n",
        "https://pandas.pydata.org/pandas-docs/stable/reference/api/pandas.DataFrame.iloc.html\n",
        "\n"
      ]
    },
    {
      "cell_type": "code",
      "metadata": {
        "id": "imGxvewPyu_e"
      },
      "source": [
        "#selecciona un solo renglon\n",
        "print(df2.iloc[30])\n",
        "print(\"\\n\")\n",
        "print(df2.iloc[:,3])\n",
        "print(\"\\n\")\n",
        "df2.iloc[4:7,2:5]"
      ],
      "execution_count": null,
      "outputs": []
    },
    {
      "cell_type": "code",
      "metadata": {
        "id": "V3J51GF6y3Ls"
      },
      "source": [
        "#Selecciona multiples columnas\n",
        "df2.iloc[[44,55,60]]"
      ],
      "execution_count": null,
      "outputs": []
    },
    {
      "cell_type": "markdown",
      "metadata": {
        "id": "4HDRgre4zWYI"
      },
      "source": [
        "# **Actividad 3d**\n",
        "Usando los datos de vivienda de California e iloc<br>\n",
        "Crea un dataframe indexando los renglones 2-6, y las columnas de longitud y latitud"
      ]
    },
    {
      "cell_type": "code",
      "metadata": {
        "id": "gkBmGU1tzjKB"
      },
      "source": [
        "#Actividad 3c, Using iloc\n"
      ],
      "execution_count": null,
      "outputs": []
    },
    {
      "cell_type": "markdown",
      "metadata": {
        "id": "NXwrGOZ59FQX"
      },
      "source": [
        "# **Actividad #4**\n",
        "Imprime los primeros 5 renglones de california_housing_dataframe. <br>"
      ]
    },
    {
      "cell_type": "code",
      "metadata": {
        "id": "XAP8Tn_u9Q0b"
      },
      "source": [
        "#Actividad #4\n"
      ],
      "execution_count": null,
      "outputs": []
    },
    {
      "cell_type": "markdown",
      "metadata": {
        "id": "OXcH_06S9yWG"
      },
      "source": [
        "\n",
        "**Una vez los datos están en un dataframe de Pandas, puede ser manipulada con los comandos de Pandas**"
      ]
    },
    {
      "cell_type": "markdown",
      "metadata": {
        "id": "sUO5kgVe-2Y9"
      },
      "source": [
        "\n",
        "En el ejemplo de abajo, se imprimen todas las secciones donde las casas tengan una edad media menor o igual a 20."
      ]
    },
    {
      "cell_type": "code",
      "metadata": {
        "id": "Ht9mDa6Y9ymB"
      },
      "source": [
        "column_name = california_housing_dataframe[\"housing_median_age\"]\n",
        "young_age = california_housing_dataframe.loc[(column_name<=20) ]\n",
        "young_age.count()"
      ],
      "execution_count": null,
      "outputs": []
    },
    {
      "cell_type": "markdown",
      "metadata": {
        "id": "pbKevhqm_HcL"
      },
      "source": [
        "# **Actividad #5**\n",
        "\n",
        "Enlista todas las secciones donde median_income sea mayor que 3"
      ]
    },
    {
      "cell_type": "code",
      "metadata": {
        "id": "r7doLalODH-0"
      },
      "source": [],
      "execution_count": null,
      "outputs": []
    },
    {
      "cell_type": "markdown",
      "metadata": {
        "id": "qe4oQF3IAsti"
      },
      "source": [
        "**Pandas te permite combinar dos o más condiciones para los datos**"
      ]
    },
    {
      "cell_type": "code",
      "metadata": {
        "id": "pR9rH8P_AYGS"
      },
      "source": [
        "condition1_series1 = california_housing_dataframe[\"housing_median_age\"]<=20\n",
        "condition1_series2 = california_housing_dataframe[\"median_income\"]> 3.0\n",
        "\n",
        "california_housing_dataframe.loc[(condition1_series1) & (condition1_series2)]"
      ],
      "execution_count": null,
      "outputs": []
    },
    {
      "cell_type": "code",
      "metadata": {
        "id": "_Fjrxd3EJA3K"
      },
      "source": [
        "california_housing_dataframe.describe()"
      ],
      "execution_count": null,
      "outputs": []
    },
    {
      "cell_type": "markdown",
      "metadata": {
        "id": "2Z89Gf5bBYx0"
      },
      "source": [
        "# **Actividad #6**\n",
        "\n",
        "Enlista todas las secciones de california_house_datameframe que:\n",
        "1. Tienen menos de 200 cuartos (bedrooms)\n",
        "2. Que tienen una ingreso medio (median income) mayor a 4.0\n"
      ]
    },
    {
      "cell_type": "markdown",
      "metadata": {
        "id": "LmP3tyjKB_cT"
      },
      "source": [
        "# **Busca los datos faltantes y cuentalos**\n",
        "\n",
        "1. Create una función que retorne la suma de todos los valores faltantes\n",
        "2. Aplica la función a todo el dataset"
      ]
    },
    {
      "cell_type": "code",
      "metadata": {
        "id": "yam4EINIB_nt"
      },
      "source": [
        "#Crea una nueva funcion\n",
        "def num_missing(x):\n",
        "  return sum(x.isnull())\n",
        "\n",
        "#Aplicala para cada columna\n",
        "print (\"Valores que faltan en cada columna:\")\n",
        "#axis=0 define que la funcion sera aplicada en cada columna\n",
        "print (california_housing_dataframe.apply(num_missing, axis=0)) \n",
        "\n",
        "\n",
        "#Aplicala por renglon\n",
        "print (\"\\n Valores que faltan en cada renglon:\")\n",
        " #axis=1 defines que la funcion sera aplicada en cada renglon\n",
        "print (california_housing_dataframe.apply(num_missing, axis=1).head())"
      ],
      "execution_count": null,
      "outputs": []
    },
    {
      "cell_type": "markdown",
      "metadata": {
        "id": "DaUrlCsoDXM7"
      },
      "source": [
        "# **Actividad #7**\n",
        "\n",
        "Usa el dataframe llamado student_info<br>\n",
        "Usa la función num_missing para listar los datos faltantes"
      ]
    },
    {
      "cell_type": "markdown",
      "metadata": {
        "id": "zM4tJCCzEki9"
      },
      "source": [
        "**Actividad #7 cont.**\n",
        "<br>\n",
        "Arregla los valores faltantes y corre la función num_missing de nuevo. "
      ]
    },
    {
      "cell_type": "markdown",
      "metadata": {
        "id": "1DajkgFcIYHn"
      },
      "source": [
        "# **Usando Pandas en archivos CSV con problemas**\n",
        "\n",
        "A veces habían problemas con los archivos CSV y podrían no ser capaz de leerlos de forma correcta.\n",
        "\n",
        "Por ejemplo, en el ejemplo de abajo cuando se intenta leer el archivo CSV, un error ocurrre."
      ]
    },
    {
      "cell_type": "markdown",
      "metadata": {
        "id": "fd52ZQpAeJGp"
      },
      "source": [
        "# Pandas [read_csv](https://pandas.pydata.org/pandas-docs/stable/reference/api/pandas.read_csv.html)\n",
        "\n",
        "Pandas read_csv es una poderosa función. Han teniendo múltiples parámetros de entrada que pueden limpiar gran parte de los errores de tu archivo conforme se leen los datos"
      ]
    },
    {
      "cell_type": "code",
      "metadata": {
        "id": "4GIWaob6NOmr"
      },
      "source": [
        "!cat deniro.csv"
      ],
      "execution_count": null,
      "outputs": []
    },
    {
      "cell_type": "markdown",
      "metadata": {
        "id": "iutiY7wAfxiG"
      },
      "source": [
        "Puedes leer y seleccionar columnas del archivo"
      ]
    },
    {
      "cell_type": "code",
      "metadata": {
        "id": "eJDgPxEOe2Lu"
      },
      "source": [
        "pd.read_csv(\"deniro.csv\", sep=',', header=10, nrows=10).columns"
      ],
      "execution_count": null,
      "outputs": []
    },
    {
      "cell_type": "code",
      "metadata": {
        "id": "nSz2K24YfceJ"
      },
      "source": [
        "pd.read_csv(\"deniro.csv\", sep=',', skiprows=[11, 12],index_col=0, parse_dates=True, header=10)"
      ],
      "execution_count": null,
      "outputs": []
    },
    {
      "cell_type": "markdown",
      "metadata": {
        "id": "BwgNt_tif7Pp"
      },
      "source": [
        "A veces los archivos CSV tiene problemas que les impiden ser cargados"
      ]
    },
    {
      "cell_type": "code",
      "metadata": {
        "id": "NSSTTXbF90aB"
      },
      "source": [
        "df2 = pd.read_csv(\"deniro.csv\",sep=\",\")\n",
        "df2"
      ],
      "execution_count": null,
      "outputs": []
    },
    {
      "cell_type": "markdown",
      "metadata": {
        "id": "SAojwakCOASa"
      },
      "source": [
        "\n",
        "El problema con este archivo es difícil de encontrar dado que ni siquiera podemos cargarlo\n",
        "<br>\n",
        "Para arreglar este problema, carga el archivo ignorando todas aquellas lineas malas "
      ]
    },
    {
      "cell_type": "code",
      "metadata": {
        "id": "CWHuc2vyN_pb"
      },
      "source": [
        "df2 = pd.read_csv(\"deniro.csv\",sep=\",\" ,error_bad_lines=False)\n",
        "df2"
      ],
      "execution_count": null,
      "outputs": []
    },
    {
      "cell_type": "markdown",
      "metadata": {
        "id": "e8yoOC8sgRAE"
      },
      "source": [
        "Para resolver problemas con los archivos CSV, puedes arreglarlos después de cargarlo o mientras los cargas.\n",
        "\n",
        "**PISTA:** Experimenta con skipinitialspace y quotechar para resolver muchos problemas de read_csv"
      ]
    },
    {
      "cell_type": "code",
      "metadata": {
        "id": "uxB6Atl7c3R1"
      },
      "source": [
        "df2 = pd.read_csv(\"oscar_winners.csv\", sep=\",\",error_bad_lines=False, skipinitialspace = True, quotechar='\"')\n",
        "df2"
      ],
      "execution_count": null,
      "outputs": []
    },
    {
      "cell_type": "code",
      "metadata": {
        "id": "w-Hir0LaRVEf"
      },
      "source": [
        "#Operando con comando del sistema\n",
        "!pwd  #imprime el directorio de trabajo\n",
        "!ls.  #enlista los contenidos del directorio de trabajo\n",
        "%cd .. #Ve al directorio anterior\n",
        "!pwd"
      ],
      "execution_count": null,
      "outputs": []
    },
    {
      "cell_type": "markdown",
      "metadata": {
        "id": "peu6-MNxPn1q"
      },
      "source": [
        "# **Actividad #8**\n",
        "\n",
        "\n",
        "1. Averigua que lineas son saltadas y porqué.\n",
        "\n",
        ">Pista: usa **cat** para leer el archivo\n",
        "\n",
        "2. Agrega esta lineas al dataframe. Es posible añadirlas cuando se carga el archivo, o puedes crear un dataframe de los renglones faltantes y añadirlos al dataframe existente.\n",
        "<br>\n",
        "\n",
        "Ejemplo: He añadido un renglón al dataframe por ti. \n",
        "\n"
      ]
    },
    {
      "cell_type": "code",
      "metadata": {
        "id": "gjQtDjVXcpcA"
      },
      "source": [
        "#Imprime las columnas con este comando\n",
        "df2.columns"
      ],
      "execution_count": null,
      "outputs": []
    },
    {
      "cell_type": "code",
      "metadata": {
        "id": "_-NN_RYtRhDR"
      },
      "source": [
        "#Crea un dataframe para el nuevo renglon\n",
        "df_add = pd.DataFrame([[1970, 73, \"Hi Mom!\"]], columns =(['Year', ' Score', ' Title']))\n",
        "df_add"
      ],
      "execution_count": null,
      "outputs": []
    },
    {
      "cell_type": "code",
      "metadata": {
        "id": "9T2jIW11jqn6"
      },
      "source": [
        "#Une los dos dataframes\n",
        "df3 = df2.append(df_add,sort=True, ignore_index=True)\n",
        "df3"
      ],
      "execution_count": null,
      "outputs": []
    },
    {
      "cell_type": "code",
      "metadata": {
        "id": "f0-0AEgx-I4T"
      },
      "source": [
        "#Ordena el dataframe por anho\n",
        "df3.sort_values(by='Year')"
      ],
      "execution_count": null,
      "outputs": []
    },
    {
      "cell_type": "code",
      "metadata": {
        "id": "cNYK5BMaCL_q"
      },
      "source": [
        "#Actividad 8\n",
        "#Agrega los otros renglones que tuvieron errores\n",
        "#Puedes agregarlos al dataframe o arreglarlos mientras se lee el archivo"
      ],
      "execution_count": null,
      "outputs": []
    },
    {
      "cell_type": "markdown",
      "metadata": {
        "id": "dtB1_3UJI9xs"
      },
      "source": [
        "**Los Dataframes pueden ser ordenados por sus ejes:**<br>\n"
      ]
    },
    {
      "cell_type": "code",
      "metadata": {
        "id": "pmjfB2uLI-mv"
      },
      "source": [
        "df3.sort_index(axis=1, ascending=False)"
      ],
      "execution_count": null,
      "outputs": []
    },
    {
      "cell_type": "markdown",
      "metadata": {
        "id": "8xQC79arnEQB"
      },
      "source": [
        "# **Actividad #9**<br>\n",
        " \n",
        "Carga el archivo llamado oscar_winners.csv en un DataFrame de Pandas\n",
        "\n",
        "Arregla cualquier problema que encuentres"
      ]
    },
    {
      "cell_type": "code",
      "metadata": {
        "id": "1SyEZ5xLcAoY"
      },
      "source": [
        "%cd cloned-repo\n",
        "!cat oscar_winners.csv"
      ],
      "execution_count": null,
      "outputs": []
    },
    {
      "cell_type": "code",
      "metadata": {
        "id": "rsDKKKo8Tz3A",
        "cellView": "form"
      },
      "source": [
        "#@title \n",
        "df2 = pd.read_csv(\"oscar_winners.csv\", sep=\",\",error_bad_lines=False, skipinitialspace = True, quotechar='\"')\n",
        "df2"
      ],
      "execution_count": null,
      "outputs": []
    },
    {
      "cell_type": "markdown",
      "metadata": {
        "id": "1NN-OvHYnKuk"
      },
      "source": [
        "# **Actividad #10**\n",
        "1. Lee el archivo letter_frequency.csv<br>\n",
        "\n",
        "> Tiene una letra, el número de veces que esa letra aparece en el documento, y el porcentaje de la frencuencia de esa letra<br>\n",
        "\n",
        "2. Imprime todas las *vocales* cuya frecuencia es mayor que la frecuencia de la leta 'U'\n"
      ]
    },
    {
      "cell_type": "code",
      "metadata": {
        "id": "WWXvrwJxu7Om"
      },
      "source": [
        "#Actividad #10\n"
      ],
      "execution_count": null,
      "outputs": []
    },
    {
      "cell_type": "code",
      "metadata": {
        "id": "pMsHq6ZTa5tq",
        "cellView": "form"
      },
      "source": [
        "#@title \n",
        "data =pd.read_csv(\"letter_frequency.csv\",sep=\",\", error_bad_lines=False, skipinitialspace = True, quotechar='\"')\n",
        "condition1_series1 = data[\"Frequency\"]> data.loc[20,\"Frequency\"]\n",
        "filtered_data = data.loc[condition1_series1]\n",
        "letter = filtered_data.Letter\n",
        "vowels = [\"A\", \"E\", \"I\", \"O\"]\n",
        "for l in letter:\n",
        "  if l in vowels:\n",
        "    print(l)"
      ],
      "execution_count": null,
      "outputs": []
    },
    {
      "cell_type": "code",
      "metadata": {
        "id": "Db4JpIzta_8s",
        "cellView": "form"
      },
      "source": [
        "#@title\n",
        "data =pd.read_csv(\"letter_frequency.csv\",sep=\",\", error_bad_lines=False, skipinitialspace=True)\n",
        "cond_U = (data['Letter']=='U')\n",
        "freq_U = data.loc[cond_U, 'Frequency'].tolist()\n",
        "\n",
        "cond_OtherVowel = ((data.Letter==\"A\") | (data.Letter==\"E\") | (data.Letter==\"I\") | (data.Letter==\"O\"))\n",
        "cond_cnt = data.Frequency>freq_U[0]\n",
        "\n",
        "subset = data.loc[(cond_OtherVowel) & (cond_cnt)]\n",
        "subset"
      ],
      "execution_count": null,
      "outputs": []
    },
    {
      "cell_type": "code",
      "metadata": {
        "id": "vM-pGMxZbGFX",
        "cellView": "form"
      },
      "source": [
        "#@title \n",
        "data.loc[ (data['Frequency'] > data.loc[20, 'Frequency']) & data['Letter'].str.contains('A|E|I|O|U') ]"
      ],
      "execution_count": null,
      "outputs": []
    },
    {
      "cell_type": "code",
      "metadata": {
        "cellView": "form",
        "id": "CL1IUFtOrh37"
      },
      "source": [
        "#@title\n",
        "lettersdf = pd.read_csv(\"letter_frequency.csv\", sep=\",\",error_bad_lines=False, \n",
        "                        skipinitialspace = True, quotechar='\"')\n",
        "lettersdf\n",
        "\n",
        "letter = lettersdf[\"Letter\"]\n",
        "U = lettersdf.loc[(letter == \"U\")]\n",
        "Ufreq = U[\"Frequency\"]\n",
        "freq = lettersdf[\"Frequency\"]\n",
        "#upperfreq = lettersdf.loc[(freq > 8022379)]\n",
        "upperfreq = lettersdf.loc[(freq > int(Ufreq))]\n",
        "upperfreq\n",
        "\n",
        "values = upperfreq.values\n",
        "\n",
        "for row in values:\n",
        "  if row[0] in ['A', 'E', 'I', 'O', 'U']:\n",
        "    print(row[0], \" \", row[1])"
      ],
      "execution_count": null,
      "outputs": []
    },
    {
      "cell_type": "markdown",
      "metadata": {
        "id": "naxWILsG-sxC"
      },
      "source": [
        "# **Actividad #11**\n",
        "**Cuando lees archivos CSV, realmente debes de comprender tus datos**<br><br>\n",
        "Carga letter_frequency.csv en un dataframe.<br>\n",
        "1. Imprime los nombres de las columnas<br>\n",
        ">print(dataframe-name.columns)<br>\n",
        "2. Imprime un renglón<br>\n",
        ">print(dataframe-name.loc[[row#]])<br>\n",
        "3. Imprime un valor específico<br>\n",
        ">dataframe-name.at[row#, column name]"
      ]
    },
    {
      "cell_type": "markdown",
      "metadata": {
        "id": "DuhaZkVSQ3j2"
      },
      "source": [
        "**Categorizando Variables**"
      ]
    },
    {
      "cell_type": "code",
      "metadata": {
        "id": "SyvmLRXZQ3uG"
      },
      "source": [
        "#Crea un dataframe\n",
        "data = pd.DataFrame({'food': ['bacon', 'pulled pork', 'bacon', 'Pastrami',\n",
        "                              'corned beef', 'Bacon', 'pastrami', 'honey ham','nova lox'],\n",
        "                 'ounces': [4, 3, 12, 6, 7.5, 8, 3, 5, 6]})\n",
        "data"
      ],
      "execution_count": null,
      "outputs": []
    },
    {
      "cell_type": "markdown",
      "metadata": {
        "id": "74n4ZZYKQcY0"
      },
      "source": [
        "**Referenciando columnas por nombre e índice**"
      ]
    },
    {
      "cell_type": "code",
      "metadata": {
        "id": "bw0Vacs-Prnr"
      },
      "source": [
        "#data.loc[: , \"food\"]\n",
        "data[data.columns[0]]"
      ],
      "execution_count": null,
      "outputs": []
    },
    {
      "cell_type": "markdown",
      "metadata": {
        "id": "nVfuklQzRaUz"
      },
      "source": [
        "Agrega una columna que contenga una variable para el origen de la comida. "
      ]
    },
    {
      "cell_type": "code",
      "metadata": {
        "id": "v4qFicYuRZja"
      },
      "source": [
        "#Paso 1: Crea un diccionario para mapear la relacion comida-origen\n",
        "meat_to_animal = {\n",
        "    'bacon': 'pig',\n",
        "    'pulled pork': 'pig',\n",
        "    'pastrami': 'cow',\n",
        "    'corned beef': 'cow',\n",
        "    'honey ham': 'pig',\n",
        "    'nova lox': 'salmon'\n",
        "}"
      ],
      "execution_count": null,
      "outputs": []
    },
    {
      "cell_type": "code",
      "metadata": {
        "id": "ryBPxGWiSz48"
      },
      "source": [
        "#Crea una nueva variable\n",
        "data['animal'] = data['food'].map(str.lower).map(meat_to_animal)\n",
        "data"
      ],
      "execution_count": null,
      "outputs": []
    },
    {
      "cell_type": "code",
      "metadata": {
        "id": "s3jM0F8CSF5_"
      },
      "source": [
        "#O agrega la nueva variable usando la funcion de assign\n",
        "#Date cuenta que con este metodo se crea un nuevo dataframe\n",
        "new_data = data.assign(family_serving = data['ounces']*10)\n",
        "new_data"
      ],
      "execution_count": null,
      "outputs": []
    },
    {
      "cell_type": "markdown",
      "metadata": {
        "id": "Bxc2WoZQTf3K"
      },
      "source": [
        "**Elimina una columna**"
      ]
    },
    {
      "cell_type": "code",
      "metadata": {
        "id": "FO4NU-MITiJH"
      },
      "source": [
        "new_data.drop('family_serving',axis='columns',inplace=True)\n",
        "new_data"
      ],
      "execution_count": null,
      "outputs": []
    },
    {
      "cell_type": "markdown",
      "metadata": {
        "id": "Ljp5g_4FTUY3"
      },
      "source": [
        "# **Activida #12**<br>\n",
        "\n",
        "1. Usa el archivo testTitanic.csv para crear un dataframe. <br>\n",
        "survival - Sobreviente (0 = No; 1 = Yes)<br>\n",
        "class - Clase del pasajero (1 = 1st; 2 = 2nd; 3 = 3rd)<br>\n",
        "name - Nombre<br>\n",
        "sex - Sexo<br>\n",
        "age - Edad<br>\n",
        "sibsp - Número de hermanos/conyuges abordo<br>\n",
        "parch - Número de padres/hijos a bordo<br>\n",
        "ticket - Número de tickets<br>\n",
        "fare - Tarifa del pasajero<br>\n",
        "cabin - Cabina<br>\n",
        "embarked - Puerto de embarque <br>\n",
        "(C = Cherbourg; Q = Queenstown; S = Southampton)<br>\n",
        "<br>\n",
        "\n",
        "2. Añade una columna para la ciudania en base del punto de embarque<br>\n",
        ">Abril 10, 1912. Pasajeros en Southampton, Inglaterra (England), abordaron el barco.\n",
        "Abril 11, 1912. Después de parar en Francia, el Titanic recogió más pasajeros en Queenstown, Irlanda (Ireland)\n",
        "3. Elimina la columna sibsp"
      ]
    },
    {
      "cell_type": "markdown",
      "metadata": {
        "id": "T3zzruP9WkEh"
      },
      "source": [
        "**Cambia el nombre de columnas y renglones**"
      ]
    },
    {
      "cell_type": "code",
      "metadata": {
        "id": "G7QvfdGrWoIx"
      },
      "source": [
        "data = pd.DataFrame(np.arange(12).reshape((3, 4)),index=['Ohio', 'Colorado', 'New York'],\n",
        "                    columns=['one', 'two', 'three', 'four'])\n",
        "data"
      ],
      "execution_count": null,
      "outputs": []
    },
    {
      "cell_type": "markdown",
      "metadata": {
        "id": "qOMEG99jW62i"
      },
      "source": [
        "**Usa la función rename**<br>\n",
        "Renombra un renglón usando la función rename"
      ]
    },
    {
      "cell_type": "code",
      "metadata": {
        "id": "Yp55DjpUW0rn"
      },
      "source": [
        "#Usando la funcion rename\n",
        "data.rename(index = {'Ohio':'Iowa'}, columns={'one':'one_p','two':'two_p'},inplace=True)\n",
        "data"
      ],
      "execution_count": null,
      "outputs": []
    },
    {
      "cell_type": "markdown",
      "metadata": {
        "id": "bXvYL7gtXKec"
      },
      "source": [
        "**Renombra una columna**<br>\n",
        "Renombra una columna usando la función rename"
      ]
    },
    {
      "cell_type": "code",
      "metadata": {
        "id": "5yh_vvelXKn0"
      },
      "source": [
        "#Usando la funcion rename\n",
        "data.rename(columns={'one':'one_p','two':'two_p'},inplace=True)\n",
        "data"
      ],
      "execution_count": null,
      "outputs": []
    },
    {
      "cell_type": "markdown",
      "metadata": {
        "id": "O5a_ZVZ8XbxQ"
      },
      "source": [
        "Usa la función rename para cambiar si la columna está en mayusculas"
      ]
    },
    {
      "cell_type": "code",
      "metadata": {
        "id": "He2v4jDVXkvC"
      },
      "source": [
        "\n",
        "#Usa la funcion the string con la funcion rename\n",
        "data.rename(index = str.upper, columns=str.title,inplace=True)\n",
        "data"
      ],
      "execution_count": null,
      "outputs": []
    },
    {
      "cell_type": "markdown",
      "metadata": {
        "id": "Qjg3skmmXuUX"
      },
      "source": [
        "# **Actividad #13**\n",
        "1. Usa el archvio de testTitanic.csv para crear un dataframe.\n",
        "2. Cambia los valores en la columna Sex a:\n",
        ">M para masculino(male), F para femenino(female)\n",
        "\n"
      ]
    },
    {
      "cell_type": "markdown",
      "metadata": {
        "id": "YmxAnx1RYS1P"
      },
      "source": [
        "**Binning de variables continuas**<br>\n"
      ]
    },
    {
      "cell_type": "code",
      "metadata": {
        "id": "DbHnGfeqYdQZ"
      },
      "source": [
        "#Crea una serie\n",
        "ages = [20, 22, 25, 27, 21, 23, 37, 31, 61, 45, 120, 32]"
      ],
      "execution_count": null,
      "outputs": []
    },
    {
      "cell_type": "markdown",
      "metadata": {
        "id": "PvUuPp6UYmo8"
      },
      "source": [
        "Crea un bin para cada rango de edad"
      ]
    },
    {
      "cell_type": "code",
      "metadata": {
        "id": "_w6sf0y3Yw8Q"
      },
      "source": [
        "#Understanding the output \n",
        "#Entendiendo el output \n",
        "#'(' significa que el valor es incluido en el bin\n",
        "#'[' significa que valor es excluido\n",
        "\n",
        "bins = [18, 25, 35, 60, 100, 120]\n",
        "cats = pd.cut(ages, bins)\n",
        "cats"
      ],
      "execution_count": null,
      "outputs": []
    },
    {
      "cell_type": "code",
      "metadata": {
        "id": "Ad_BMTbpZ6or"
      },
      "source": [
        "pd.value_counts(cats)"
      ],
      "execution_count": null,
      "outputs": []
    },
    {
      "cell_type": "code",
      "metadata": {
        "id": "SLQJpOcAaKBI"
      },
      "source": [
        "bin_names = ['Youth', 'YoungAdult', 'MiddleAge', 'Senior', 'Ancient']\n",
        "new_cats = pd.cut(ages, bins,labels=bin_names)\n",
        "\n",
        "pd.value_counts(new_cats)"
      ],
      "execution_count": null,
      "outputs": []
    },
    {
      "cell_type": "code",
      "metadata": {
        "id": "OB64q1C7aciC"
      },
      "source": [
        "#Suma acumulativa\n",
        "pd.value_counts(new_cats).cumsum()"
      ],
      "execution_count": null,
      "outputs": []
    },
    {
      "cell_type": "markdown",
      "metadata": {
        "id": "pLYqESnbav0I"
      },
      "source": [
        "# **Actividad #14**\n",
        "1. Use the testTitanic.csv file to create a dataframe. <br>\n",
        "2. Haz bin a las edades de los pasajeros\n"
      ]
    },
    {
      "cell_type": "markdown",
      "metadata": {
        "id": "GETB7cYGhc-L"
      },
      "source": [
        "# **Escribiendo a una hoja de cálculo de Excel**\n",
        " \n",
        "El código para escribir en una hoja de cálculo de Excel es bastante sencillo:<br>\n",
        "1. Crea un dataframe de Pandas\n",
        "2. Crea una ruta de directorio para un archivo .xlsx de destino\n",
        "3. Usa el método integrado to_excel<Br>\n",
        "\n",
        "No tengo excel, por lo que no puedo ver si este código realmente genera algo que podría servir . . . pero crea un archivo con extensión .xlsx\n"
      ]
    },
    {
      "cell_type": "code",
      "metadata": {
        "id": "jNecaJDohdM0"
      },
      "source": [
        "## Crea el dataframe\n",
        "dataframe = pd.read_csv(\"letter_frequency.csv\", quotechar='\"', skipinitialspace=True, sep=\",\",error_bad_lines=False) \n",
        "\n",
        "## Guarda a un archivo .xlsx\n",
        "filepath = 'my_excel_file.xlsx'\n",
        "\n",
        "dataframe.to_excel(filepath, index=False)"
      ],
      "execution_count": null,
      "outputs": []
    }
  ]
}